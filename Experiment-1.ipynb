{
 "cells": [
  {
   "cell_type": "code",
   "execution_count": null,
   "metadata": {},
   "outputs": [],
   "source": [
    "!pip install mimikit"
   ]
  },
  {
   "cell_type": "code",
   "execution_count": null,
   "metadata": {},
   "outputs": [],
   "source": [
    "from mimikit.freqnet import FreqNet\n",
    "from mimikit.data import Database, download_database\n",
    "from mimikit.utils import audio\n",
    "from mimikit import get_trainer, get_token"
   ]
  },
  {
   "cell_type": "code",
   "execution_count": null,
   "metadata": {},
   "outputs": [],
   "source": [
    "# neptune :\n",
    "\n",
    "neptune_token = get_token()\n",
    "\n",
    "# for the db :\n",
    "\n",
    "neptune_project_db = \"k-tonal/data-and-base-notebooks\"\n",
    "neptune_exp_id_db = \"DAT-27\"\n",
    "full_exp_path_db = neptune_project_db + \"/\" + neptune_exp_id_db\n",
    "db_name = \"genoel-mix.h5\"\n",
    "\n",
    "# for the model :\n",
    "\n",
    "neptune_project = \"k-tonal/model-upload-test\"\n",
    "\n",
    "# paths\n",
    "\n",
    "path_to_db = \"../\" + db_name\n",
    "path_to_model = \"../experiment-1\"\n"
   ]
  },
  {
   "cell_type": "code",
   "execution_count": null,
   "metadata": {},
   "outputs": [],
   "source": [
    "# get your data\n",
    "\n",
    "# db = download_database(neptune_token,\n",
    "#                        full_exp_path_db,\n",
    "#                        database_name=db_name,\n",
    "#                        destination=\"./\")\n",
    "db = Database(path_to_db)\n",
    "db.metadata"
   ]
  },
  {
   "cell_type": "markdown",
   "metadata": {},
   "source": [
    "### Varying Parameters"
   ]
  },
  {
   "cell_type": "code",
   "execution_count": null,
   "metadata": {},
   "outputs": [],
   "source": [
    "params = {\n",
    "    # from quick to slow without pad and without accum :\n",
    "    0: dict(\n",
    "        with_skip_conv=False,\n",
    "        with_residual_conv=False,\n",
    "        pad_input=0,\n",
    "        accum_outputs=0,\n",
    "    ),\n",
    "    1: dict(\n",
    "        with_skip_conv=False,\n",
    "        with_residual_conv=True,\n",
    "        pad_input=0,\n",
    "        accum_outputs=0,\n",
    "    ),\n",
    "    2:  dict(\n",
    "        with_skip_conv=True,\n",
    "        with_residual_conv=False,\n",
    "        pad_input=0,\n",
    "        accum_outputs=0,\n",
    "    ),\n",
    "    3:  dict(\n",
    "        with_skip_conv=True,\n",
    "        with_residual_conv=True,\n",
    "        pad_input=0,\n",
    "        accum_outputs=0,\n",
    "    ),\n",
    "    # from quick to slow with accum on the right\n",
    "    4: dict(\n",
    "        with_skip_conv=False,\n",
    "        with_residual_conv=False,\n",
    "        pad_input=0,\n",
    "        accum_outputs=-1,\n",
    "    ),\n",
    "    5: dict(\n",
    "        with_skip_conv=False,\n",
    "        with_residual_conv=True,\n",
    "        pad_input=0,\n",
    "        accum_outputs=-1,\n",
    "    ),\n",
    "    6:  dict(\n",
    "        with_skip_conv=True,\n",
    "        with_residual_conv=False,\n",
    "        pad_input=0,\n",
    "        accum_outputs=-1,\n",
    "    ),\n",
    "    7:  dict(\n",
    "        with_skip_conv=True,\n",
    "        with_residual_conv=True,\n",
    "        pad_input=0,\n",
    "        accum_outputs=-1,\n",
    "    ),\n",
    "    # only quick with pad left or right & with or without accum\n",
    "    8: dict(\n",
    "        with_skip_conv=False,\n",
    "        with_residual_conv=False,\n",
    "        pad_input=-1,\n",
    "        accum_outputs=1,\n",
    "    ),\n",
    "    9: dict(\n",
    "        with_skip_conv=False,\n",
    "        with_residual_conv=False,\n",
    "        pad_input=1,\n",
    "        accum_outputs=1,\n",
    "    ),\n",
    "    10:  dict(\n",
    "        with_skip_conv=False,\n",
    "        with_residual_conv=False,\n",
    "        pad_input=1,\n",
    "        accum_outputs=0,\n",
    "    ),\n",
    "    11:  dict(\n",
    "        with_skip_conv=False,\n",
    "        with_residual_conv=False,\n",
    "        pad_input=-1,\n",
    "        accum_outputs=0,\n",
    "    ),\n",
    "    # only slow with pad left or right & with or without accum\n",
    "    12: dict(\n",
    "        with_skip_conv=True,\n",
    "        with_residual_conv=True,\n",
    "        pad_input=-1,\n",
    "        accum_outputs=1,\n",
    "    ),\n",
    "    13: dict(\n",
    "        with_skip_conv=True,\n",
    "        with_residual_conv=True,\n",
    "        pad_input=1,\n",
    "        accum_outputs=1,\n",
    "    ),\n",
    "    14:  dict(\n",
    "        with_skip_conv=True,\n",
    "        with_residual_conv=True,\n",
    "        pad_input=1,\n",
    "        accum_outputs=0,\n",
    "    ),\n",
    "    15:  dict(\n",
    "        with_skip_conv=True,\n",
    "        with_residual_conv=True,\n",
    "        pad_input=-1,\n",
    "        accum_outputs=0,\n",
    "    ),\n",
    "}"
   ]
  },
  {
   "cell_type": "code",
   "execution_count": null,
   "metadata": {},
   "outputs": [],
   "source": [
    "# pick a parametrization :\n",
    "\n",
    "PARAMS_INDEX = 9\n",
    "\n",
    "# build a model and its trainer\n",
    "\n",
    "model = FreqNet(\n",
    "    data_object=db.fft,\n",
    "    splits=[.85, .15],\n",
    "     model_dim=1024,\n",
    "     groups=1,\n",
    "     n_layers=(4,),\n",
    "    **params[PARAMS_INDEX]\n",
    "     )\n",
    "\n",
    "trainer = get_trainer(model=model,\n",
    "                     max_epochs=100,\n",
    "                     epochs=[100],\n",
    "                     # try everything in 16-bits precision\n",
    "                     precision=16,\n",
    "                     root_dir=path_to_model,\n",
    "                     neptune_api_token=neptune_token,\n",
    "                     neptune_project=neptune_project,\n",
    "                     )\n",
    "\n",
    "# log some infos to the neptune experiment :\n",
    "\n",
    "nept_exp = [exp for exp in trainer.logger.experiment if exp.__class__.__name__ == \"Experiment\"]\n",
    "if any(nept_exp):\n",
    "    nept_exp[0].append_tags(\"INDEX=\" + str(PARAMS_INDEX),\n",
    "                         \"precision=16\",\n",
    "                         \"FreqNet\",\n",
    "                         \"db=\"+db_name,\n",
    "                         \"db_size=\" + str(model.data.shape[0]),\n",
    "                         *[k + \"=\" + str(v) for k, v in params[PARAMS_INDEX].items()])\n",
    "    nept_exp[0].log_text(\"DB\", db_name)\n",
    "    nept_exp[0].log_text(\"INDEX\", str(PARAMS_INDEX))\n",
    "    \n",
    "\n",
    "# Train :\n",
    "\n",
    "trainer.fit(model)\n",
    "\n",
    "# upload checkpoints and logs\n",
    "\n",
    "model.upload_to_neptune(artifacts=(\"states\", \"logs\"))"
   ]
  },
  {
   "cell_type": "markdown",
   "metadata": {},
   "source": [
    "### try some prompts"
   ]
  },
  {
   "cell_type": "code",
   "execution_count": null,
   "metadata": {},
   "outputs": [],
   "source": [
    "from random import randint\n",
    "\n",
    "n_prompts = 3\n",
    "prompts_indices = [randint(0, model.data.shape[0]-64) for _ in range(n_prompts)]\n",
    "\n",
    "for n, i in enumerate(prompts_indices):\n",
    "    output = model.generate(model.data[i:i+64],\n",
    "                            n_steps=2048)\n",
    "    \n",
    "    print(\"prompt\", n, \"index\", i)\n",
    "    \n",
    "    audio(output.squeeze().numpy())\n"
   ]
  },
  {
   "cell_type": "markdown",
   "metadata": {},
   "source": [
    "### log a prompt you like"
   ]
  },
  {
   "cell_type": "code",
   "execution_count": null,
   "metadata": {},
   "outputs": [],
   "source": [
    "i = 1234\n",
    "\n",
    "model.log_audio(\"prompt=\" + str(i), model.generate(model.data[i:i+64], n_steps=2048))"
   ]
  }
 ],
 "metadata": {
  "accelerator": "GPU",
  "colab": {
   "name": "Experiment-1.ipynb",
   "provenance": []
  },
  "kernelspec": {
   "display_name": "Python 3",
   "language": "python",
   "name": "python3"
  },
  "language_info": {
   "codemirror_mode": {
    "name": "ipython",
    "version": 3
   },
   "file_extension": ".py",
   "mimetype": "text/x-python",
   "name": "python",
   "nbconvert_exporter": "python",
   "pygments_lexer": "ipython3",
   "version": "3.7.6"
  },
  "pycharm": {
   "stem_cell": {
    "cell_type": "raw",
    "metadata": {
     "collapsed": false
    },
    "source": []
   }
  }
 },
 "nbformat": 4,
 "nbformat_minor": 4
}
