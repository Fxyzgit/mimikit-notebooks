{
 "cells": [
  {
   "cell_type": "markdown",
   "metadata": {},
   "source": [
    "# MMK Snippets <a id=\"TOP\" name=\"TOP\"></a>\n",
    "\n",
    "This is a collection of small self-contained code snippets that you can copy & paste in your notebook.\n",
    "\n",
    "\n",
    "### ****This notebook is only for reference and not to be evaluated as is!****\n",
    "\n",
    "For an example of how to build your own notebook, checkout the [base `FreqNet` notebook]()\n",
    "\n",
    "For documentation on the freqnet package and its classes checkout [this link]()\n",
    "\n",
    "\n",
    "## Table of Content\n",
    "\n",
    "[Installation](#O.)\n",
    "\n",
    "- 0. [Variables](#0.)\n",
    "- I. [Database](#I.)\n",
    "    - a) [Make a Database](#Ia)\n",
    "    - b) [get data from a database](#Ib)\n",
    "- II. [Load & Download Model & Data](#II.)\n",
    "    - a) [connect to Gdrive](#IIa)\n",
    "    - b) [download db from neptune](#IIb)\n",
    "    - c) [download model from neptune](#IIc)\n",
    "    - d) [load model from checkpoint](#IId)\n",
    "    - e) [resume training from checkpoint](#IIe)\n",
    "- III. [Upload & Save stuff](#III.)\n",
    "    - a) [Upload a db](#IIIa)\n",
    "    - b) [Upload a model](#IIIb)\n",
    "    - c) [Manually Save Checkpoint](#IIIc)\n",
    "    - d) [log audio](#IIId)\n",
    "    - e) [access neptune experiment object](#IIIe)\n",
    "    - f) [Log all kind of stuff to your experiment](#IIIf)\n",
    "- IV. [Look at the logs](#IV.)\n",
    "- V. [Sampling](#V.)\n",
    "    - a) [Generate](#Va)\n",
    "    - b) [Manual Prompt](#Vb)\n",
    "    - c) [Automatic Prompt](#Vc)\n",
    "    - d) [Random prompt](#Vd)\n",
    "    - e) [Same prompt(s) for several models](#Ve)\n",
    "- VI. [Training Tricks](#VI.)\n",
    "- VII. [Model attributes](#VII.)\n",
    "- VIII. [Build your own Model](#VIII.)"
   ]
  },
  {
   "cell_type": "markdown",
   "metadata": {},
   "source": [
    "# INSTALL `mmk`<a id=\"O.\"></a>"
   ]
  },
  {
   "cell_type": "markdown",
   "metadata": {},
   "source": [
    "## In Colab and on your own PC"
   ]
  },
  {
   "cell_type": "code",
   "execution_count": null,
   "metadata": {},
   "outputs": [],
   "source": [
    "# in a terminal :\n",
    "pip install mmk\n",
    "\n",
    "# or in a notebook :\n",
    "!pip install mmk"
   ]
  },
  {
   "cell_type": "markdown",
   "metadata": {},
   "source": [
    "## Development Version"
   ]
  },
  {
   "cell_type": "code",
   "execution_count": null,
   "metadata": {},
   "outputs": [],
   "source": [
    "git clone https://github.com/k-tonal/mmk\n",
    "# this makes an editable package install (very handy when developing)\n",
    "pip install -e mmk/"
   ]
  },
  {
   "cell_type": "markdown",
   "metadata": {},
   "source": [
    "## Load Your neptune API Token\n",
    "\n",
    "`get_token()` will find your token in the os environment \n",
    "if you added it to your `.bashrc` or `.bash_config`.\n",
    "\n",
    "Else it will ask you to paste it from your clipboard and save it in\n",
    "the environment.\n",
    "\n",
    "By default it looks for `\"NEPTUNE_API_TOKEN\"` and stores the token under this key if you had to paste it.\n",
    "\n",
    "If you're token is under an other key or you wish to store an other token in your environment, pass the name of the key like this `get_token(key=\"MY_NEPTUNE_KEY\")`"
   ]
  },
  {
   "cell_type": "code",
   "execution_count": null,
   "metadata": {},
   "outputs": [],
   "source": [
    "from mmk.kit import get_token\n",
    "\n",
    "neptune_token = get_token()"
   ]
  },
  {
   "cell_type": "markdown",
   "metadata": {},
   "source": [
    "# 0. Variables <a id=\"0.\"></a> <a name=\"0.\"></a>\n",
    "\n",
    "### throughout the snippets we use consistent variable names. \n",
    "### Here we pseudo-exemplify them for reference.\n",
    "### It is _strongly advised_ to have a similar cell at the begining of your notebook with your own values and \"build\" your notebook through copying, pasting & adapting the snippets listed here.\n",
    "\n",
    "This will protect you against typos and mistakes (and possibly against your own chaos...) if you're not an experienced developer."
   ]
  },
  {
   "cell_type": "code",
   "execution_count": null,
   "metadata": {},
   "outputs": [],
   "source": [
    "path_to_audio_files = \"MyPc/home/my_audios\"\n",
    "path_to_db = \"\"\n",
    "# where files are stored :\n",
    "path_to_model = \"\"\n",
    "path_to_ckpt = path_to_model + \"/states/epoch=X.ckpt\"\n",
    "\n",
    "# neptune experiment path\n",
    "full_exp_path = \"account/project/EXP-9\"\n",
    "# sometimes we need just the project path:\n",
    "neptune_project = \"account/project\"\n",
    "\n",
    "db = Database(path_to_db)\n",
    "model = ModelClass(....)\n",
    "trainer = get_trainer(root_dir=path_to_model, ....)\n"
   ]
  },
  {
   "cell_type": "markdown",
   "metadata": {},
   "source": [
    "[Back to the top](#TOP)"
   ]
  },
  {
   "cell_type": "markdown",
   "metadata": {},
   "source": [
    "# I. BUILD AND USE `Database`<a id=\"I.\"></a><a name=\"I.\"></a>"
   ]
  },
  {
   "cell_type": "markdown",
   "metadata": {},
   "source": [
    "## a) Make a DB <a id=\"Ia\"></a><a name=\"Ia\"></a>"
   ]
  },
  {
   "cell_type": "markdown",
   "metadata": {},
   "source": [
    "#### Option 1 : with a python function"
   ]
  },
  {
   "cell_type": "code",
   "execution_count": null,
   "metadata": {},
   "outputs": [],
   "source": [
    "from mmk.freqnet import freqnet_db\n",
    "\n",
    "freqnet_db(path_to_db,\n",
    "           roots=[\"directory/\"],\n",
    "          files=[\"file1\", \"file2\"],\n",
    "           # those are the defaults and can be omitted :\n",
    "          n_fft=2048,\n",
    "          hop_length=512,\n",
    "          sample_rate=22050,\n",
    "           # specifying a neptune_project (\"account/project\") \n",
    "           # automatically upload the db to a new experiment \n",
    "           # in the project \n",
    "          neptune_project=None)"
   ]
  },
  {
   "cell_type": "markdown",
   "metadata": {},
   "source": [
    "#### Option 2 : with a command-line (once you pip installed mmk)"
   ]
  },
  {
   "cell_type": "code",
   "execution_count": null,
   "metadata": {},
   "outputs": [],
   "source": [
    "# this takes exactly the same arguments as the function in Option 1 :\n",
    "\n",
    "!freqnet-db \"new_db.h5\" --roots \"directory/\" --files \"file1\" \"file2\" --n-fft 1024 --hop-length 256\n",
    "\n",
    "# for usage and flags shorthands checkout :\n",
    "\n",
    "!freqnet-db --help"
   ]
  },
  {
   "cell_type": "markdown",
   "metadata": {},
   "source": [
    "#### Option 3 : manually build a FileWalker and an extract function! chekout mmk.freqnet.freqnet_db for an example!"
   ]
  },
  {
   "cell_type": "markdown",
   "metadata": {},
   "source": [
    "[Back to the top](#TOP)"
   ]
  },
  {
   "cell_type": "markdown",
   "metadata": {},
   "source": [
    "## b) Get File / Get Indices <a id=\"Ib\"></a><a name=\"Ib\"></a>\n",
    "\n",
    "`Database` keeps the files flatten in a large array under a feature attribute (in `freqnet_db`s the fft are in the `db.fft` attribute) which can be indexed like a `numpy` array.\n",
    "\n",
    "In addition, the positions of each file in the flatten array is stored in `db.metadata`, a `pandas.Dataframe` with columns `\"name\", \"start\", \"stop\", \"duration\"`."
   ]
  },
  {
   "cell_type": "code",
   "execution_count": null,
   "metadata": {},
   "outputs": [],
   "source": [
    "from mmk.data import Database\n",
    "\n",
    "db = Database(path_to_db)\n",
    "\n",
    "# retrieve from frame 5 to frame 10 :\n",
    "\n",
    "frames = db.fft[5:10]\n",
    "\n",
    "\n",
    "# retrieve a whole file :\n",
    "\n",
    "file_array = db.fft.get(db.metadata.iloc[[0]])"
   ]
  },
  {
   "cell_type": "markdown",
   "metadata": {},
   "source": [
    "[Back to the top](#TOP)"
   ]
  },
  {
   "cell_type": "markdown",
   "metadata": {},
   "source": [
    "# II. Load & Download Model & Data <a id=\"II.\"></a><a name=\"II.\"></a>"
   ]
  },
  {
   "cell_type": "markdown",
   "metadata": {},
   "source": [
    "## a) Connect to GDrive <a id=\"IIa\"></a><a name=\"IIa\"></a>\n",
    "this is pasted from the colab snippets"
   ]
  },
  {
   "cell_type": "code",
   "execution_count": null,
   "metadata": {},
   "outputs": [],
   "source": [
    "from google.colab import drive\n",
    "drive.mount('/gdrive')\n",
    "%cd /gdrive"
   ]
  },
  {
   "cell_type": "markdown",
   "metadata": {},
   "source": [
    "[Back to the top](#TOP)"
   ]
  },
  {
   "cell_type": "markdown",
   "metadata": {},
   "source": [
    "## b) Download DB from neptune <a id=\"IIb\"></a><a name=\"IIb\"></a>"
   ]
  },
  {
   "cell_type": "code",
   "execution_count": null,
   "metadata": {},
   "outputs": [],
   "source": [
    "from mmk.data import download_database\n",
    "\n",
    "database_name = \"mydb.h5\"\n",
    "db = download_database(neptune_token, full_exp_path, database_name)"
   ]
  },
  {
   "cell_type": "markdown",
   "metadata": {},
   "source": [
    "[Back to the top](#TOP)"
   ]
  },
  {
   "cell_type": "markdown",
   "metadata": {},
   "source": [
    "## c) Download Model <a id=\"IIc\"></a><a name=\"IIc\"></a>\n",
    "by default this download all model's subdirectories in the current working directory of the ipython kernel.\n",
    "To download the files somewhere else, just pass a `destination=\"where/I/want/the/subdirectories/\"`"
   ]
  },
  {
   "cell_type": "code",
   "execution_count": null,
   "metadata": {},
   "outputs": [],
   "source": [
    "from mmk.kit import download_model\n",
    "\n",
    "download_model(full_exp_path, destination=path_to_model)"
   ]
  },
  {
   "cell_type": "markdown",
   "metadata": {},
   "source": [
    "[Back to the top](#TOP)"
   ]
  },
  {
   "cell_type": "markdown",
   "metadata": {},
   "source": [
    "## d) Load Checkpoint <a id=\"IId\"></a><a name=\"IId\"></a>"
   ]
  },
  {
   "cell_type": "code",
   "execution_count": null,
   "metadata": {},
   "outputs": [],
   "source": [
    "# IMPORTANT : all models in mmk.freqnet need a data_object argument when reloading\n",
    "\n",
    "# import the class you want to load and Database\n",
    "\n",
    "from mmk.freqnet import FreqNet\n",
    "from mmk.data import Database\n",
    "\n",
    "db = Database(path_to_db)\n",
    "model = FreqNet.load_from_checkpoint(path_to_ckpt, data_object=db.fft)"
   ]
  },
  {
   "cell_type": "markdown",
   "metadata": {},
   "source": [
    "[Back to the top](#TOP)"
   ]
  },
  {
   "cell_type": "markdown",
   "metadata": {},
   "source": [
    "## e) Resume Training from Checkpoint <a id=\"IIe\"></a><a name=\"IIe\"></a>"
   ]
  },
  {
   "cell_type": "code",
   "execution_count": null,
   "metadata": {},
   "outputs": [],
   "source": [
    "# import the class you want to load\n",
    "\n",
    "from mmk.freqnet import FreqNet\n",
    "from mmk.kit import get_trainer\n",
    "\n",
    "\n",
    "# FreqNetModel needs a valid data_object when loading :\n",
    "\n",
    "model = FreqNet.load_from_checkpoint(path_to_ckpt, data_object=db.fft)\n",
    "\n",
    "# this resume training from a model checkpoint (path_to_ckpt) and the last_optim_state.pt in the states/ directory\n",
    "\n",
    "trainer = get_trainer(model=model,\n",
    "                      resume_from_checkpoint=path_to_ckpt,\n",
    "                      # if ckpt was made at epoch=2, \n",
    "                      # the following will train for 2 more epochs:\n",
    "                      max_epochs=4,\n",
    "                      epochs=1,\n",
    "                      root_dir=path_to_model,\n",
    "                      neptune_api_token=api_token,\n",
    "                      neptune_project=neptune_project,\n",
    "                      # passing an id lets you continue your experiment \n",
    "                      # in neptune too!\n",
    "                      neptune_exp_id=neptune_exp_id\n",
    "                      )\n",
    "\n",
    "# trainer.fit(fnet)"
   ]
  },
  {
   "cell_type": "markdown",
   "metadata": {},
   "source": [
    "[Back to the top](#TOP)"
   ]
  },
  {
   "cell_type": "markdown",
   "metadata": {},
   "source": [
    "# III. UPLOAD & SAVE STUFF <a id=\"III.\"></a><a name=\"III.\"></a>"
   ]
  },
  {
   "cell_type": "markdown",
   "metadata": {},
   "source": [
    "## a) Upload DB <a id=\"IIIa\"></a><a name=\"IIIa\"></a>\n",
    "\n",
    "this creates a new Experiment in the specified project and upload the db in the `artifacts`"
   ]
  },
  {
   "cell_type": "code",
   "execution_count": null,
   "metadata": {},
   "outputs": [],
   "source": [
    "from mmk.data import upload_database, Database\n",
    "\n",
    "db = Database(path_to_db)\n",
    "upload_database(db, neptune_token, neptune_project, \"My Experiment Name\")"
   ]
  },
  {
   "cell_type": "markdown",
   "metadata": {},
   "source": [
    "[Back to the top](#TOP)"
   ]
  },
  {
   "cell_type": "markdown",
   "metadata": {},
   "source": [
    "## b) Upload Model (Checkpoints, Audios, Logs) to neptune <a id=\"IIIb\"></a><a name=\"IIIb\"></a>"
   ]
  },
  {
   "cell_type": "code",
   "execution_count": null,
   "metadata": {},
   "outputs": [],
   "source": [
    "# if `model` has just been trained with a neptune Experiment :\n",
    "\n",
    "model.upload_to_neptune()\n",
    "\n",
    "# if `model` hasn't just been trained :\n",
    "\n",
    "model.upoad_to_neptune(root_dir=path_to_model,\n",
    "                       experiment=neptune_exp_object)"
   ]
  },
  {
   "cell_type": "markdown",
   "metadata": {},
   "source": [
    "[Back to the top](#TOP)"
   ]
  },
  {
   "cell_type": "markdown",
   "metadata": {},
   "source": [
    "## c) Manually Save Checkpoint <a id=\"IIIc\" name=\"IIIc\"></a>"
   ]
  },
  {
   "cell_type": "code",
   "execution_count": null,
   "metadata": {},
   "outputs": [],
   "source": [
    "import os\n",
    "\n",
    "# add a checkpoint in the model's states/ directory (where they belong...)\n",
    "\n",
    "trainer.save_checkpoint(os.path.join(trainer.default_root_dir, \"states\", \"test.ckpt\"))"
   ]
  },
  {
   "cell_type": "markdown",
   "metadata": {},
   "source": [
    "[Back to the top](#TOP)"
   ]
  },
  {
   "cell_type": "markdown",
   "metadata": {
    "collapsed": true
   },
   "source": [
    "## d) Log Audio <a id=\"IIIc\" name=\"IIIc\"></a>\n",
    "\n",
    "These method will always save an audio file in `path_to_model/audios`\n",
    "& in any neptune or TestTube loggers / experiments if the model is bound to some or if you passed some through\n",
    "the `experiments=[...]` keyword argument"
   ]
  },
  {
   "cell_type": "code",
   "execution_count": null,
   "metadata": {},
   "outputs": [],
   "source": [
    "# some audio tensor as reutrned by FreqNet.generate(...)\n",
    "audio_tensor = torch.randn(1, 10000)\n",
    "audio_filename = \"name_of_the_saved_file\"\n",
    "\n",
    "# if model just have been trained with some loggers:\n",
    "model.log_audio(audio_filename, audio_tensor)\n",
    "\n",
    "# if the data was made with non-default sample-rate :\n",
    "model.log_audio(audio_filename, audio_tensor, sample_rate=db.fft.attrs[\"sr\"])\n",
    "\n",
    "# if you want to log specific Experiment objects (neptune or testtube)\n",
    "model.log_audio(audio_filename, audio_tensor, experiments=[neptune_exp_object])"
   ]
  },
  {
   "cell_type": "markdown",
   "metadata": {},
   "source": [
    "[Back to the top](#TOP)"
   ]
  },
  {
   "cell_type": "markdown",
   "metadata": {},
   "source": [
    "## e) Access Experiment Object <a id=\"IIIe\" name=\"IIIe\"></a>"
   ]
  },
  {
   "cell_type": "code",
   "execution_count": null,
   "metadata": {},
   "outputs": [],
   "source": [
    "# if you want the experiment object whithout having trained a model :\n",
    "\n",
    "from mmk.kit import get_token, get_neptune_experiment\n",
    "\n",
    "neptune_token = get_token()\n",
    "experiment = get_neptune_experiment(neptune_token,\n",
    "                                    \"account/project/EXP-0\")\n",
    "\n",
    "# if you have a model :\n",
    "\n",
    "# each logger has its own Experiment object.\n",
    "\n",
    "experiment =  model.logger.experiment \n",
    "# can then be a list of several Experiment objects....\n",
    "\n",
    "# if you just want the neptune one :\n",
    "experiment = model.neptune_experiment\n"
   ]
  },
  {
   "cell_type": "markdown",
   "metadata": {},
   "source": [
    "[Back to the top](#TOP)"
   ]
  },
  {
   "cell_type": "markdown",
   "metadata": {},
   "source": [
    "## f) Log all kind of stuff to your experiment <a id=\"IIIf\" name=\"IIIf\"></a>\n",
    "\n",
    "all loggers / experiment objects offer similar logging possibilities, often under varying methods names.\n",
    "\n",
    "Checkout the documentation for the [`TestTubeLogger`](https://pytorch-lightning.readthedocs.io/en/stable/generated/pytorch_lightning.loggers.TestTubeLogger.html#pytorch_lightning.loggers.TestTubeLogger) and its experiment object : the [`tensordboard summary_writer`](https://pytorch.org/docs/stable/tensorboard.html).\n",
    "Or the one for the [`NeptuneLogger`](https://pytorch-lightning.readthedocs.io/en/stable/generated/pytorch_lightning.loggers.NeptuneLogger.html#pytorch_lightning.loggers.NeptuneLogger) and its [`Experiment`](https://docs.neptune.ai/api-reference/neptune/experiments/index.html) object."
   ]
  },
  {
   "cell_type": "markdown",
   "metadata": {},
   "source": [
    "[Back to the top](#TOP)"
   ]
  },
  {
   "cell_type": "markdown",
   "metadata": {},
   "source": [
    "# IV. LOOK AT THE LOGS <a id=\"IV.\" name=\"IV.\"></a>"
   ]
  },
  {
   "cell_type": "markdown",
   "metadata": {},
   "source": [
    "## Listen to logged Audios\n",
    "\n",
    "if you logged audios in tensorboard or neptune, you can listen to them there, otherwise:"
   ]
  },
  {
   "cell_type": "code",
   "execution_count": null,
   "metadata": {},
   "outputs": [],
   "source": [
    "import os\n",
    "import librosa\n",
    "from mmk.utils import audio\n",
    "\n",
    "path_to_audios = os.path.join(path_to_model, \"audios\")\n",
    "\n",
    "for audio_file in os.listdir(path_to_audios):\n",
    "    signal, _ = librosa.load(audio_file)\n",
    "    print(audio_file)\n",
    "    audio(signal)"
   ]
  },
  {
   "cell_type": "markdown",
   "metadata": {},
   "source": [
    "## Open Tensorboard\n",
    "\n",
    "assuming `path_to_model=\"./\"`"
   ]
  },
  {
   "cell_type": "code",
   "execution_count": null,
   "metadata": {},
   "outputs": [],
   "source": [
    "!tensorboard --logdir ./logs"
   ]
  },
  {
   "cell_type": "markdown",
   "metadata": {},
   "source": [
    "[Back to the top](#TOP)"
   ]
  },
  {
   "cell_type": "markdown",
   "metadata": {},
   "source": [
    "# V. SAMPLING <a id=\"V.\" name=\"V.\"></a>"
   ]
  },
  {
   "cell_type": "markdown",
   "metadata": {},
   "source": [
    "## a) Generate <a id=\"Va\" name=\"Va\"></a>"
   ]
  },
  {
   "cell_type": "code",
   "execution_count": null,
   "metadata": {},
   "outputs": [],
   "source": [
    "output = model.generate(prompt, n_steps=2048,\n",
    "                        hop_length=db.fft.attrs[\"hop_length\"])"
   ]
  },
  {
   "cell_type": "markdown",
   "metadata": {},
   "source": [
    "## b) Manual Prompt <a id=\"Vb\" name=\"Vb\"></a>\n",
    "\n",
    "`Database` stores all files in flat array. Informations about the files you extracted are stored in `db.metadata` which is a `panda.Dataframe`.\n",
    "You can then pick prompts anywhere in the db or in specific files"
   ]
  },
  {
   "cell_type": "code",
   "execution_count": null,
   "metadata": {},
   "outputs": [],
   "source": [
    "db = Database(path_to_db)\n",
    "\n",
    "# in all cases we get the length of the prompt from the model \n",
    "\n",
    "prompt_length = model.receptive_field\n",
    "\n",
    "# anywhere in the db :\n",
    "\n",
    "# this need to be smaller than db.fft.shape[0] - prompt_length\n",
    "start_index = 1234\n",
    "\n",
    "# in a specific file :\n",
    "\n",
    "file = db.metadata.iloc[[3]]\n",
    "# start index relative to the beginning of the file\n",
    "start_index = 1234 + file[\"start\"].item()\n",
    "\n",
    "# finally \n",
    "\n",
    "prompt = db.fft[start_index:start_index+prompt_length]"
   ]
  },
  {
   "cell_type": "markdown",
   "metadata": {},
   "source": [
    "## c) Automatic Prompts <a id=\"Vc\" name=\"Vc\"></a>\n",
    "simple trick to sample throughout a db"
   ]
  },
  {
   "cell_type": "code",
   "execution_count": null,
   "metadata": {},
   "outputs": [],
   "source": [
    "db = Database(path_to_db)\n",
    "N = db.fft.shape[0]\n",
    "prompt_length = model.receptive_field\n",
    "\n",
    "# how many prompts you want\n",
    "n_prompts = 40\n",
    "\n",
    "for i in range(0, N, N // n_prompts):\n",
    "    prompt = db.fft[i:i+prompt_length]\n",
    "\n",
    "#     then most likely :\n",
    "#     output = model.generate(prompt, 1000, hop_length=db.fft.attrs[\"hop_length\"])\n",
    "#     model.log_audio(output, \"prompt=%i\" % i, sample_rate=db.fft.attrs[\"sr\"])"
   ]
  },
  {
   "cell_type": "markdown",
   "metadata": {},
   "source": [
    "## d) Random Prompt <a id=\"Vd\" name=\"Vd\"></a>"
   ]
  },
  {
   "cell_type": "code",
   "execution_count": null,
   "metadata": {},
   "outputs": [],
   "source": [
    "# all freqnets have methods to get random train and val examples :\n",
    "\n",
    "# train :\n",
    "\n",
    "prompt = model.random_train_example()\n",
    "\n",
    "# validation :\n",
    "\n",
    "prompt = model.random_val_example()"
   ]
  },
  {
   "cell_type": "markdown",
   "metadata": {},
   "source": [
    "## e) Same Prompt(s) for several Models <a id=\"Ve\" name=\"Ve\"></a>"
   ]
  },
  {
   "cell_type": "code",
   "execution_count": null,
   "metadata": {},
   "outputs": [],
   "source": [
    "# just as an example :\n",
    "\n",
    "from random import randint\n",
    "import os\n",
    "\n",
    "db = Database(path_to_db)\n",
    "n_prompts = 10\n",
    "prompts_indices = [randint(0, db.fft.shape[0]) for _ in range(n_prompts)]\n",
    "# how many steps we want to generate :\n",
    "n_steps = 1000\n",
    "\n",
    "all_checkpoints = os.listdir(os.path.join(path_to_model, \"states\"))\n",
    "\n",
    "for ckpt in all_checkpoints:\n",
    "    # load the model\n",
    "    path_to_ckpt = os.path.join(path_to_model, \"states\", ckpt)\n",
    "    model = FreqNet.load_from_checkpoint(path_to_ckpt)\n",
    "\n",
    "    # loop through the prompts \n",
    "    for i in prompts_indices:\n",
    "        prompt = db.fft[i:i+model.receptive_field]\n",
    "        output = model.generate(prompt, n_steps, hop_length=db.fft.attrs[\"hop_length\"])\n",
    "        model.log_audio(output, \"prompt=%i\" % i, sample_rate=db.fft.attrs[\"sr\"])\n",
    "        "
   ]
  },
  {
   "cell_type": "markdown",
   "metadata": {},
   "source": [
    "[Back to the top](#TOP)"
   ]
  },
  {
   "cell_type": "markdown",
   "metadata": {},
   "source": [
    "# VI. TRAINING TRICKS <a id=\"VI.\" name=\"VI.\"></a>"
   ]
  },
  {
   "cell_type": "markdown",
   "metadata": {},
   "source": [
    "## Train several Models (ParameterGrid)"
   ]
  },
  {
   "cell_type": "code",
   "execution_count": null,
   "metadata": {},
   "outputs": [],
   "source": []
  },
  {
   "cell_type": "markdown",
   "metadata": {},
   "source": [
    "## Select Subset of the Files of a DB"
   ]
  },
  {
   "cell_type": "code",
   "execution_count": null,
   "metadata": {},
   "outputs": [],
   "source": []
  },
  {
   "cell_type": "markdown",
   "metadata": {},
   "source": [
    "## Add Data-Augmentations"
   ]
  },
  {
   "cell_type": "code",
   "execution_count": null,
   "metadata": {},
   "outputs": [],
   "source": []
  },
  {
   "cell_type": "markdown",
   "metadata": {},
   "source": [
    "## 16-Bit Precision (not available on all GPUs)"
   ]
  },
  {
   "cell_type": "code",
   "execution_count": null,
   "metadata": {},
   "outputs": [],
   "source": []
  },
  {
   "cell_type": "markdown",
   "metadata": {},
   "source": [
    "[Back to the top](#TOP)"
   ]
  },
  {
   "cell_type": "markdown",
   "metadata": {},
   "source": [
    "# VII. MODEL ATTRIBUTES <a id=\"VII.\" name=\"VII.\"></a>"
   ]
  },
  {
   "cell_type": "markdown",
   "metadata": {},
   "source": [
    "## hparams"
   ]
  },
  {
   "cell_type": "code",
   "execution_count": null,
   "metadata": {},
   "outputs": [],
   "source": []
  },
  {
   "cell_type": "markdown",
   "metadata": {},
   "source": [
    "## logger"
   ]
  },
  {
   "cell_type": "code",
   "execution_count": null,
   "metadata": {},
   "outputs": [],
   "source": []
  },
  {
   "cell_type": "markdown",
   "metadata": {},
   "source": [
    "## datamodule"
   ]
  },
  {
   "cell_type": "code",
   "execution_count": null,
   "metadata": {},
   "outputs": [],
   "source": []
  },
  {
   "cell_type": "markdown",
   "metadata": {},
   "source": [
    "[Back to the top](#TOP)"
   ]
  },
  {
   "cell_type": "markdown",
   "metadata": {},
   "source": [
    "# VIII. BUILD YOUR OWN MODEL <a id=\"VIII.\" name=\"VIII.\"></a>"
   ]
  },
  {
   "cell_type": "markdown",
   "metadata": {},
   "source": [
    "## Add `mmk` Hooks to your LightningModule"
   ]
  },
  {
   "cell_type": "code",
   "execution_count": null,
   "metadata": {},
   "outputs": [],
   "source": []
  },
  {
   "cell_type": "markdown",
   "metadata": {},
   "source": [
    "## Bypass `get_trainer`"
   ]
  },
  {
   "cell_type": "code",
   "execution_count": null,
   "metadata": {},
   "outputs": [],
   "source": []
  },
  {
   "cell_type": "markdown",
   "metadata": {},
   "source": [
    "## Build a `DataModule` with `DataObject` and a `DatasetWrapper`"
   ]
  },
  {
   "cell_type": "code",
   "execution_count": null,
   "metadata": {},
   "outputs": [],
   "source": []
  }
 ],
 "metadata": {
  "kernelspec": {
   "display_name": "Python 3",
   "language": "python",
   "name": "python3"
  },
  "language_info": {
   "codemirror_mode": {
    "name": "ipython",
    "version": 3
   },
   "file_extension": ".py",
   "mimetype": "text/x-python",
   "name": "python",
   "nbconvert_exporter": "python",
   "pygments_lexer": "ipython3",
   "version": "3.7.6"
  }
 },
 "nbformat": 4,
 "nbformat_minor": 1
}
