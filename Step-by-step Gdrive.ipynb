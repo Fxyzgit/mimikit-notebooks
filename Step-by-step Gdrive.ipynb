{
 "cells": [
  {
   "cell_type": "markdown",
   "metadata": {},
   "source": [
    "## this is the companion notebbok to the [mimikit : Step-by-step tutorial]()\n",
    "\n",
    "it shows how to use `mimikit` with **Gdrive** and can be executed in [colab](https://colab.research.google.com/github/k-tonal/mimikit-notebooks/blob/main/Step-by-step%20Gdrive.ipynb)"
   ]
  },
  {
   "cell_type": "markdown",
   "metadata": {},
   "source": [
    "## Install `mimikit`"
   ]
  },
  {
   "cell_type": "code",
   "execution_count": null,
   "metadata": {},
   "outputs": [],
   "source": [
    "!pip install mimikit"
   ]
  },
  {
   "cell_type": "markdown",
   "metadata": {},
   "source": [
    "## Connect to your Gdrive"
   ]
  },
  {
   "cell_type": "code",
   "execution_count": null,
   "metadata": {},
   "outputs": [],
   "source": [
    "from google.colab import drive\n",
    "drive.mount('/gdrive')\n",
    "%cd /gdrive/My\\ Drive"
   ]
  },
  {
   "cell_type": "markdown",
   "metadata": {},
   "source": [
    "## Import classes & functions from `mimikit`"
   ]
  },
  {
   "cell_type": "code",
   "execution_count": 1,
   "metadata": {},
   "outputs": [],
   "source": [
    "from mimikit import get_trainer\n",
    "from mimikit.data import Database\n",
    "from mimikit.freqnet import freqnet_db, FreqNet"
   ]
  },
  {
   "cell_type": "markdown",
   "metadata": {},
   "source": [
    "## If you don't have audio files on Gdrive, upload some here"
   ]
  },
  {
   "cell_type": "code",
   "execution_count": null,
   "metadata": {},
   "outputs": [],
   "source": [
    "from google.colab import files\n",
    "\n",
    "uploaded = files.upload()"
   ]
  },
  {
   "cell_type": "markdown",
   "metadata": {},
   "source": [
    "## Define some variables for configuration"
   ]
  },
  {
   "cell_type": "code",
   "execution_count": null,
   "metadata": {},
   "outputs": [],
   "source": [
    "path_to_your_files = \"./\"\n",
    "db_filename = \"demo_db.h5\"\n",
    "path_to_model = 'demo_model/'"
   ]
  },
  {
   "cell_type": "markdown",
   "metadata": {},
   "source": [
    "## Make a database"
   ]
  },
  {
   "cell_type": "code",
   "execution_count": null,
   "metadata": {},
   "outputs": [],
   "source": [
    "db = freqnet_db(db_filename, roots=[path_to_your_files])"
   ]
  },
  {
   "cell_type": "markdown",
   "metadata": {},
   "source": [
    "## Define a model and some training options"
   ]
  },
  {
   "cell_type": "code",
   "execution_count": null,
   "metadata": {},
   "outputs": [],
   "source": [
    "model = FreqNet(data_object=db.fft,\n",
    "                model_dim=1024,\n",
    "                groups=1,\n",
    "                n_layers=(4,),\n",
    "                with_skip_conv=False,\n",
    "                with_residual_conv=False,\n",
    "                accum_outputs=0,\n",
    "                concat_outputs=0,\n",
    "                pad_input=0)\n",
    "\n",
    "trainer = get_trainer(max_epochs=100,\n",
    "                      epochs=[30, 60, 99],\n",
    "                      root_dir=path_to_model)"
   ]
  },
  {
   "cell_type": "markdown",
   "metadata": {},
   "source": [
    "## Launch the training (and go do something else!...)"
   ]
  },
  {
   "cell_type": "code",
   "execution_count": null,
   "metadata": {},
   "outputs": [],
   "source": [
    "trainer.fit(model)"
   ]
  },
  {
   "cell_type": "markdown",
   "metadata": {},
   "source": [
    "## Generate audios with the model"
   ]
  },
  {
   "cell_type": "code",
   "execution_count": null,
   "metadata": {},
   "outputs": [],
   "source": [
    "from mimikit.utils import audio\n",
    "\n",
    "prompt = model.random_train_example()\n",
    "output = model.generate(prompt, n_steps=2048)\n",
    "\n",
    "audio(output.squeeze().numpy())"
   ]
  },
  {
   "cell_type": "markdown",
   "metadata": {},
   "source": [
    "## Save the generated outputs to your Gdrive"
   ]
  },
  {
   "cell_type": "code",
   "execution_count": null,
   "metadata": {},
   "outputs": [],
   "source": [
    "name_for_output = \"wow_cool_output\"\n",
    "\n",
    "model.log_audio(name_for_output, output)"
   ]
  },
  {
   "cell_type": "markdown",
   "metadata": {},
   "source": [
    "## Reload a checkpoint"
   ]
  },
  {
   "cell_type": "code",
   "execution_count": null,
   "metadata": {},
   "outputs": [],
   "source": [
    "epoch = 99\n",
    "\n",
    "path_to_ckpt = path_to_model + \"states/epoch=%i.ckpt\" % epoch\n",
    "\n",
    "model = FreqNet(path_to_ckpt, data_object=db.fft)\n",
    "\n",
    "model.hparams"
   ]
  }
 ],
 "metadata": {
  "kernelspec": {
   "display_name": "Python 3",
   "language": "python",
   "name": "python3"
  },
  "language_info": {
   "codemirror_mode": {
    "name": "ipython",
    "version": 3
   },
   "file_extension": ".py",
   "mimetype": "text/x-python",
   "name": "python",
   "nbconvert_exporter": "python",
   "pygments_lexer": "ipython3",
   "version": "3.7.6"
  },
  "colab": {
    "name": "Experiment-1.ipynb",
    "provenance": []
  },
  "accelerator": "GPU"
 },
 "nbformat": 4,
 "nbformat_minor": 4
}
