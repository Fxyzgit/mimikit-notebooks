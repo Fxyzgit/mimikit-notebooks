{
 "cells": [
  {
   "cell_type": "markdown",
   "metadata": {},
   "source": [
    "## this is the companion notebbok to the [mimikit : Step-by-step netpune tutorial]()\n",
    "\n",
    "it shows how to use `mimikit` with [neptune.ai](https://neptune.ai) and can be executed for instance in [colab](https://colab.research.google.com/github/k-tonal/mimikit-notebooks/blob/main/Step-by-step%20Gdrive.ipynb)"
   ]
  },
  {
   "cell_type": "markdown",
   "metadata": {},
   "source": [
    "# I. Pre-requisites"
   ]
  },
  {
   "cell_type": "markdown",
   "metadata": {},
   "source": [
    "## Install mimikit on your PC"
   ]
  },
  {
   "cell_type": "code",
   "execution_count": null,
   "metadata": {},
   "outputs": [],
   "source": [
    "pip install mimikit"
   ]
  },
  {
   "cell_type": "markdown",
   "metadata": {},
   "source": [
    "## Setup neptune on your PC\n",
    "\n",
    "1. Get your API token\n",
    "    - go to [neptune.ai](https://neptune.ai)\n",
    "    - log in\n",
    "    - in the top corner right, click on your avatar\n",
    "    - the clik on \"Get Your API Token\", choose your OS and paste **the second option** to your clipboard\n",
    "2. On your PC\n",
    "    - open a terminal\n",
    "    - type `ls -a ~` and see whether you see a `.bashrc`, a `.bash_profile` or none of those.\n",
    "    - if there were none, create one with `touch ~/.bashrc`\n",
    "    - we will now assume you found `.bashrc` - both possibilities are equivalent.\n",
    "    - now type `nano ~/.bashrc` which opens a text editor in the terminal\n",
    "    - go to the end of the file and paste the line from neptune there\n",
    "    - type `Ctrl+O` then `ENTER` to save and finally `Ctrl+X` to close the editor.\n",
    "    - close the terminal\n",
    "3. Verify that it worked\n",
    "    - open a new terminal\n",
    "    - type `echo $NEPTUNE_API_TOKEN`\n",
    "    - if your token prints out, then congrats! It worked!\n",
    "    - if not, check that your `.bashrc` or `.bash_profile` does have the line with the token, and if it does, figure out which file your OS is sourcing when starting a fresh terminal... good luck!"
   ]
  },
  {
   "cell_type": "markdown",
   "metadata": {},
   "source": [
    "## Prepare neptune"
   ]
  },
  {
   "cell_type": "markdown",
   "metadata": {},
   "source": [
    "go to [neptune.ai](https://neptune.ai) and create 1 new project where you will store your data and the checkpoint of your model.\n",
    "\n",
    "For the sake of the tutorial, name it `mimikit-demo`."
   ]
  },
  {
   "cell_type": "markdown",
   "metadata": {},
   "source": [
    "## Make a database on your PC and upload it to neptune"
   ]
  },
  {
   "cell_type": "code",
   "execution_count": null,
   "metadata": {},
   "outputs": [],
   "source": [
    "# in a terminal :\n",
    "\n",
    "freqnet-db \"demo_db.h5\" --roots \"music-directory/\" --neptune-path \"your-username/mimikit-demo\""
   ]
  },
  {
   "cell_type": "markdown",
   "metadata": {},
   "source": [
    "# II. In this notebook"
   ]
  },
  {
   "cell_type": "markdown",
   "metadata": {},
   "source": [
    "## If on colab, install `mimikit`"
   ]
  },
  {
   "cell_type": "code",
   "execution_count": null,
   "metadata": {},
   "outputs": [],
   "source": [
    "!pip install mimikit"
   ]
  },
  {
   "cell_type": "markdown",
   "metadata": {},
   "source": [
    "## Import classes & functions\n",
    "\n",
    "In `mimikit`, the [`NeptuneConnector`](https://todo-api-link/) manages every part of the connection with `neptune`."
   ]
  },
  {
   "cell_type": "code",
   "execution_count": 1,
   "metadata": {},
   "outputs": [],
   "source": [
    "from mimikit import get_trainer\n",
    "from mimikit.data import Database\n",
    "from mimikit.freqnet import freqnet_db, FreqNet\n",
    "\n",
    "from mimikit import NeptuneConnector"
   ]
  },
  {
   "cell_type": "markdown",
   "metadata": {},
   "source": [
    "## Configure neptune and define some variables\n",
    "\n",
    "in the `setup` argument, you can define `key`, `value` pairs where the `values` are in your neptune account. \n",
    "\n",
    "Two forms are possible :\n",
    "    - user/project\n",
    "    - user/project/exp-id\n",
    "    \n",
    "the former results in experiments being created when requested - e.g. a `model` to be trained. The latter allows for specific identifiers - e.g. `dbs`."
   ]
  },
  {
   "cell_type": "code",
   "execution_count": 2,
   "metadata": {},
   "outputs": [],
   "source": [
    "nep_con = NeptuneConnector(user=\"Mimi Kit\",\n",
    "                           # edit next line with the exp id of your db :\n",
    "                           setup={\"db\": \"mimikit-demo/<DB-EXP-ID>\",\n",
    "                                  \"model\": \"mimikit-demo\"})\n",
    "\n",
    "# checkpoints, logs and audios still need to be stored on the notebook's host system before\n",
    "# they can be uploaded, so we define a root directory where we will store everything during training :\n",
    "\n",
    "path_to_model = 'demo_model/'"
   ]
  },
  {
   "cell_type": "markdown",
   "metadata": {},
   "source": [
    "## Download your database to the notebook's environment"
   ]
  },
  {
   "cell_type": "code",
   "execution_count": null,
   "metadata": {},
   "outputs": [],
   "source": [
    "db = nep_con.download_database(\"db\", \"demo_db.h5\")"
   ]
  },
  {
   "cell_type": "markdown",
   "metadata": {},
   "source": [
    "## Define a model and some training options"
   ]
  },
  {
   "cell_type": "code",
   "execution_count": null,
   "metadata": {},
   "outputs": [],
   "source": [
    "model = FreqNet(data_object=db.fft,\n",
    "                model_dim=1024,\n",
    "                groups=1,\n",
    "                n_layers=(4,),\n",
    "                with_skip_conv=False,\n",
    "                with_residual_conv=False,\n",
    "                accum_outputs=0,\n",
    "                concat_outputs=0,\n",
    "                pad_input=0)\n",
    "\n",
    "trainer = get_trainer(root_dir=path_to_model,\n",
    "                      max_epochs=100,\n",
    "                      \n",
    "                      # the epochs at which we will save checkpoints :\n",
    "                      \n",
    "                      epochs=[30, 60, 99],\n",
    "                      \n",
    "                      # pass the model and the NeptuneConnector to get_trainer :\n",
    "\n",
    "                      model=model,\n",
    "                      neptune_connector=nep_con\n",
    "                     )"
   ]
  },
  {
   "cell_type": "markdown",
   "metadata": {},
   "source": [
    "## Launch the training (and go to [neptune.ai](https://neptune.ai) to see it getting updated live)"
   ]
  },
  {
   "cell_type": "code",
   "execution_count": null,
   "metadata": {},
   "outputs": [],
   "source": [
    "trainer.fit(model)"
   ]
  },
  {
   "cell_type": "markdown",
   "metadata": {},
   "source": [
    "## Upload the model to neptune"
   ]
  },
  {
   "cell_type": "code",
   "execution_count": null,
   "metadata": {},
   "outputs": [],
   "source": [
    "nep_con.upload_model(\"model\", model)"
   ]
  },
  {
   "cell_type": "markdown",
   "metadata": {},
   "source": [
    "## Log some infos about your models"
   ]
  },
  {
   "cell_type": "code",
   "execution_count": null,
   "metadata": {},
   "outputs": [],
   "source": [
    "# If your model just has been trained :\n",
    "\n",
    "model.neptune_experiment.log_text(\"data\", \"music-directory/\")"
   ]
  },
  {
   "cell_type": "markdown",
   "metadata": {},
   "source": [
    "## Generate audios with the model"
   ]
  },
  {
   "cell_type": "code",
   "execution_count": null,
   "metadata": {},
   "outputs": [],
   "source": [
    "from mimikit.utils import audio\n",
    "\n",
    "prompt = model.random_train_example()\n",
    "output = model.generate(prompt, n_steps=2048)\n",
    "\n",
    "audio(output.squeeze().numpy())"
   ]
  },
  {
   "cell_type": "markdown",
   "metadata": {},
   "source": [
    "## Upload the outputs to neptune\n",
    "\n",
    "`model.log_audio` uploads the outputs as `.wav` in `audios/` and as `.wav.html` in `audio/`.\n",
    "\n",
    "The first is for you to have standard audio files. The second allows you to listen to the outputs on neptune.ai."
   ]
  },
  {
   "cell_type": "code",
   "execution_count": null,
   "metadata": {},
   "outputs": [],
   "source": [
    "model.log_audio(\"awesome-output\", output)"
   ]
  },
  {
   "cell_type": "markdown",
   "metadata": {},
   "source": [
    "# III. Reload / Restore a trained model"
   ]
  },
  {
   "cell_type": "markdown",
   "metadata": {},
   "source": [
    "## Download a model\n",
    "\n",
    "once your notebook stopped, you can download your experiment and load a checkpoint :"
   ]
  },
  {
   "cell_type": "code",
   "execution_count": null,
   "metadata": {},
   "outputs": [],
   "source": [
    "nep_con = NeptuneConnector(user=\"your_username\",\n",
    "                           # edit the next line with the id of the model you trained \n",
    "                          setup={\"trained\": \"demo-mimikit/<MODEL_EXP_ID>\"})\n",
    "\n",
    "nep_con.download_experiment(\"trained\")"
   ]
  },
  {
   "cell_type": "markdown",
   "metadata": {},
   "source": [
    "## Reload a checkpoint"
   ]
  },
  {
   "cell_type": "code",
   "execution_count": null,
   "metadata": {},
   "outputs": [],
   "source": [
    "epoch = 99\n",
    "\n",
    "path_to_ckpt = path_to_model + \"states/epoch=%i.ckpt\" % epoch\n",
    "\n",
    "model = FreqNet(path_to_ckpt, data_object=db.fft)\n",
    "\n",
    "model.hparams"
   ]
  },
  {
   "cell_type": "markdown",
   "metadata": {},
   "source": [
    "### Check out the `NeptuneConnector` [API](https://missing-link/) for a complete list of available methods."
   ]
  }
 ],
 "metadata": {
  "kernelspec": {
   "display_name": "Python 3",
   "language": "python",
   "name": "python3"
  },
  "language_info": {
   "codemirror_mode": {
    "name": "ipython",
    "version": 3
   },
   "file_extension": ".py",
   "mimetype": "text/x-python",
   "name": "python",
   "nbconvert_exporter": "python",
   "pygments_lexer": "ipython3",
   "version": "3.7.6"
  },
  "colab": {
    "name": "Step-by-step neptune.ipynb",
    "provenance": []
  },
  "accelerator": "GPU"
 },
 "nbformat": 4,
 "nbformat_minor": 4
}
