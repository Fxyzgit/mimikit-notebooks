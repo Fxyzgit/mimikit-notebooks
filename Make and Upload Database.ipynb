{
 "cells": [
  {
   "cell_type": "code",
   "execution_count": null,
   "metadata": {},
   "outputs": [],
   "source": [
    "%cd ../mmk2"
   ]
  },
  {
   "cell_type": "code",
   "execution_count": null,
   "metadata": {},
   "outputs": [],
   "source": [
    "import os\n",
    "import sys\n",
    "\n",
    "sys.path = [p for p in sys.path if \"Auto\" not in p]\n",
    "\n",
    "from functools import partial\n",
    "from mmk.data import make_root_db, AudioFileWalker, file_to_fft, Database\n",
    "\n",
    "from mmk.kit.neptune_project import upload_database"
   ]
  },
  {
   "cell_type": "code",
   "execution_count": null,
   "metadata": {},
   "outputs": [],
   "source": [
    "# make a walker to combine (different) sources of audio_files\n",
    "\n",
    "walker = AudioFileWalker(\n",
    "    roots=[\"../gould\", ],\n",
    "    files=[]\n",
    ")\n",
    "\n",
    "# to use multithreading, we need to pass a function \n",
    "# that returns an array and a dict of attributes (hop, n_fft...)\n",
    "# `file_to_fft` does that, `partial` allow us to specify its params without evaluating it\n",
    "\n",
    "extract = partial(file_to_fft, n_fft=256, hop_length=256//4, sr=22050)\n",
    "\n",
    "# pass the walker and the extact function to `make_root_db` to build an on-disk dataset\n",
    "\n",
    "make_root_db(\"../gould.h5\", walker, extract_func=extract)"
   ]
  },
  {
   "cell_type": "code",
   "execution_count": null,
   "metadata": {
    "scrolled": true
   },
   "outputs": [],
   "source": [
    "# check that everything's good\n",
    "db = Database(\"../gould.h5\")\n",
    "\n",
    "# we stored the params!\n",
    "db.fft.attrs"
   ]
  },
  {
   "cell_type": "code",
   "execution_count": null,
   "metadata": {},
   "outputs": [],
   "source": [
    "api_token = os.environ.get(\"NEPTUNE_API_TOKEN\")\n",
    "\n",
    "upload_database(db, api_token, \"k-tonal/data\", \"Arie-Nessun-Dorma\")"
   ]
  },
  {
   "cell_type": "code",
   "execution_count": null,
   "metadata": {},
   "outputs": [],
   "source": [
    "# we can also append data to the db (!!!! THIS IS IRREVERSIBLE !!! (for now...))\n",
    "\n",
    "db.fft.add(db.fft[:1000], filename=\"some more stuff\")\n",
    "\n",
    "# we have to reload the db for it to take effect\n",
    "db = Database(\"../gould.h5\")\n",
    "\n",
    "# chekcout the last on the list\n",
    "db.metadata.iloc[-1:]"
   ]
  },
  {
   "cell_type": "code",
   "execution_count": null,
   "metadata": {},
   "outputs": [],
   "source": []
  }
 ],
 "metadata": {
  "kernelspec": {
   "display_name": "Python 3",
   "language": "python",
   "name": "python3"
  },
  "language_info": {
   "codemirror_mode": {
    "name": "ipython",
    "version": 3
   },
   "file_extension": ".py",
   "mimetype": "text/x-python",
   "name": "python",
   "nbconvert_exporter": "python",
   "pygments_lexer": "ipython3",
   "version": "3.7.6"
  }
 },
 "nbformat": 4,
 "nbformat_minor": 4
}
