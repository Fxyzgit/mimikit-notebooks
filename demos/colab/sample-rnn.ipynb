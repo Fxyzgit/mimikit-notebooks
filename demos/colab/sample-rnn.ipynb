{
 "cells": [
  {
   "cell_type": "markdown",
   "id": "b13e31c2",
   "metadata": {},
   "source": [
    "## Connect to your GDrive \n",
    "In order to train the network on your data, create a directory named `data/`\n",
    "in the current working directory (cwd) of this notebook (when on colab and connected to gdrive\n",
    "this would be the `MyDrive/` directory in your gdrive account) and put audio files in it. "
   ]
  },
  {
   "cell_type": "code",
   "execution_count": null,
   "id": "7565237e",
   "metadata": {},
   "outputs": [],
   "source": [
    "from google.colab import drive\n",
    "drive.mount('/gdrive')\n",
    "# this set the cwd of the notebook\n",
    "%cd /gdrive/MyDrive "
   ]
  },
  {
   "cell_type": "markdown",
   "id": "2fbe3e3a",
   "metadata": {},
   "source": [
    "### Install `mimikit`"
   ]
  },
  {
   "cell_type": "code",
   "execution_count": null,
   "id": "070c5d55",
   "metadata": {},
   "outputs": [],
   "source": [
    "%pip install torchaudio==0.11.0+cu113 -f https://download.pytorch.org/whl/cu113/torch_stable.html\n",
    "%pip install torchmetrics==0.5.1\n",
    "%pip uninstall torchtext -y\n",
    "%pip install mimikit[colab]==0.3.2"
   ]
  },
  {
   "cell_type": "markdown",
   "id": "feeb0829",
   "metadata": {},
   "source": [
    "### Configure and run training"
   ]
  },
  {
   "cell_type": "code",
   "execution_count": null,
   "id": "7a55bcd6",
   "metadata": {},
   "outputs": [],
   "source": [
    "import mimikit as mmk\n",
    "import h5mapper as h5m\n",
    "import torch\n",
    "import os\n",
    "\n",
    "# DATA\n",
    "\n",
    "# list of files or directories to use as data (\"./\" is the cwd of the notebook)\n",
    "sources = ['./data']\n",
    "# audio sample rate\n",
    "sr = 16000\n",
    "\n",
    "db_path = \"train.h5\"\n",
    "if os.path.exists(db_path):\n",
    "    os.remove(db_path)\n",
    "\n",
    "class SoundBank(h5m.TypedFile):\n",
    "    snd = h5m.Sound(sr=sr, mono=True, normalize=True)\n",
    "\n",
    "SoundBank.create(db_path, sources)\n",
    "soundbank = SoundBank(db_path, mode='r', keep_open=True)\n",
    "\n",
    "# INPUT / TARGET\n",
    "\n",
    "feature = mmk.MuLawSignal(\n",
    "    sr=soundbank.snd.sr,\n",
    "    q_levels=256,\n",
    ")\n",
    "\n",
    "# NETWORK\n",
    "\n",
    "net = mmk.models.SampleRNN(\n",
    "    feature=feature,\n",
    "    # bottom tier has linearized Mu-Law signal as input (no embeddings!)\n",
    "    input_type=\"lin\",\n",
    "    # output MLP learns to predict the temperature of its output distribution\n",
    "    learn_temperature=True,\n",
    "    chunk_length=16000 * 8,\n",
    "    frame_sizes=(256, 128, 64, 32, 16, 8, 4, 4),\n",
    "    dim=128,\n",
    "    n_rnn=1,\n",
    "    q_levels=feature.q_levels,\n",
    "    embedding_dim=1,\n",
    "    mlp_dim=128,\n",
    ")\n",
    "\n",
    "# OPTIMIZATION LOOP\n",
    "\n",
    "mmk.train(\n",
    "    soundbank,\n",
    "    net,\n",
    "    input_feature=mmk.MultiScale(feature, net.frame_sizes, (*net.frame_sizes[:-1], 1)),\n",
    "    target_feature=feature,\n",
    "    root_dir=\"./\",\n",
    "\n",
    "    # BATCH\n",
    "\n",
    "    batch_size=32,\n",
    "    batch_length=2048,\n",
    "    oversampling=16,\n",
    "    shift_error=0,\n",
    "    tbptt_chunk_length=net.hp.chunk_length,\n",
    "\n",
    "    # OPTIM\n",
    "\n",
    "    max_epochs=1000,\n",
    "    limit_train_batches=None,\n",
    "\n",
    "    max_lr=1e-3,\n",
    "    betas=(0.9, 0.9),\n",
    "    div_factor=1.,\n",
    "    final_div_factor=10.,\n",
    "    pct_start=0.05,\n",
    "    cycle_momentum=False,\n",
    "    reset_optim=False,\n",
    "\n",
    "    # MONITORING / OUTPUTS\n",
    "\n",
    "    CHECKPOINT_TRAINING=False,\n",
    "    MONITOR_TRAINING=True,\n",
    "    OUTPUT_TRAINING=\"\",\n",
    "\n",
    "    every_n_epochs=100,\n",
    "    n_examples=4,\n",
    "    # small warm up prompts work better than big ones...\n",
    "    prompt_length=net.frame_sizes[0]*6,\n",
    "    n_steps=int(16 * feature.sr),\n",
    "    temperature=torch.tensor([[1.], [1.5], [.5], [.05]]).repeat(1, int(16*net.feature.sr)),\n",
    "\n",
    ")\n",
    "\n"
   ]
  },
  {
   "cell_type": "markdown",
   "id": "cca426ea",
   "metadata": {},
   "source": [
    "----------------------------"
   ]
  },
  {
   "cell_type": "markdown",
   "id": "6e6a87f3",
   "metadata": {},
   "source": [
    "<img src=\"https://ktonal.com/k-circle-bw.png\" alt=\"logo\" width=\"75\"/>"
   ]
  }
 ],
 "metadata": {
  "accelerator": "GPU"
 },
 "nbformat": 4,
 "nbformat_minor": 5
}
