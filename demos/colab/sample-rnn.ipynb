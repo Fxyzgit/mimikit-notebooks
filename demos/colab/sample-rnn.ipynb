{
 "cells": [
  {
   "cell_type": "markdown",
   "id": "d02a9478",
   "metadata": {},
   "source": [
    "## Connect to your GDrive \n",
    "In order to train the network on your data, create a directory named `data/`\n",
    "in the current working directory (cwd) of this notebook (when on colab and connected to gdrive\n",
    "this would be the `MyDrive/` directory in your gdrive account) and put audio files in it. "
   ]
  },
  {
   "cell_type": "code",
   "execution_count": null,
   "id": "177f4942",
   "metadata": {},
   "outputs": [],
   "source": [
    "from google.colab import drive\n",
    "drive.mount('/gdrive')\n",
    "# this set the cwd of the notebook\n",
    "%cd /gdrive/MyDrive "
   ]
  },
  {
   "cell_type": "markdown",
   "id": "290f2ebd",
   "metadata": {},
   "source": [
    "### Install `mimikit`"
   ]
  },
  {
   "cell_type": "code",
   "execution_count": null,
   "id": "25685eff",
   "metadata": {},
   "outputs": [],
   "source": [
    "%pip install torchaudio==0.10.0+cu113 -f https://download.pytorch.org/whl/cu113/torch_stable.html\n",
    "%pip install mimikit[colab]==0.3.1"
   ]
  },
  {
   "cell_type": "markdown",
   "id": "4de721a0",
   "metadata": {},
   "source": [
    "### Configure and run training"
   ]
  },
  {
   "cell_type": "code",
   "execution_count": null,
   "id": "d407089d",
   "metadata": {},
   "outputs": [],
   "source": [
    "import mimikit as mmk\n",
    "import h5mapper as h5m\n",
    "import torch\n",
    "import os\n",
    "\n",
    "# DATA\n",
    "\n",
    "# list of files or directories to use as data (\"./\" is the cwd of the notebook)\n",
    "sources = ['./data']\n",
    "# audio sample rate\n",
    "sr = 16000\n",
    "\n",
    "db_path = \"train.h5\"\n",
    "if os.path.exists(db_path):\n",
    "    os.remove(db_path)\n",
    "\n",
    "class SoundBank(h5m.TypedFile):\n",
    "    snd = h5m.Sound(sr=sr, mono=True, normalize=True)\n",
    "\n",
    "SoundBank.create(db_path, sources)\n",
    "soundbank = SoundBank(db_path, mode='r', keep_open=True)\n",
    "\n",
    "# INPUT / TARGET\n",
    "\n",
    "feature = mmk.MuLawSignal(\n",
    "    sr=soundbank.snd.sr,\n",
    "    q_levels=256,\n",
    ")\n",
    "\n",
    "# NETWORK\n",
    "\n",
    "net = mmk.models.SampleRNN(\n",
    "    feature=feature,\n",
    "    chunk_length=16000 * 8,\n",
    "    frame_sizes=(64, 16, 16),\n",
    "    dim=512,\n",
    "    n_rnn=2,\n",
    "    q_levels=feature.q_levels,\n",
    "    embedding_dim=256,\n",
    "    mlp_dim=512,\n",
    ")\n",
    "\n",
    "# OPTIMIZATION LOOP\n",
    "\n",
    "mmk.train(\n",
    "    soundbank,\n",
    "    net,\n",
    "    input_feature=mmk.MultiScale(feature, net.frame_sizes, (*net.frame_sizes[:-1], 1)),\n",
    "    target_feature=feature,\n",
    "    root_dir=\"./\",\n",
    "\n",
    "    # BATCH\n",
    "\n",
    "    batch_size=16,\n",
    "    batch_length=1024,\n",
    "    oversampling=2,\n",
    "    shift_error=0,\n",
    "    tbptt_chunk_length=16000 * 8,\n",
    "\n",
    "    # OPTIM\n",
    "\n",
    "    max_epochs=200,\n",
    "    limit_train_batches=None,\n",
    "\n",
    "    max_lr=5e-4,\n",
    "    betas=(0.9, 0.93),\n",
    "    div_factor=20.,\n",
    "    final_div_factor=1.,\n",
    "    pct_start=0.,\n",
    "    cycle_momentum=False,\n",
    "    reset_optim=True,\n",
    "\n",
    "    # MONITORING / OUTPUTS\n",
    "\n",
    "    CHECKPOINT_TRAINING=False,\n",
    "    MONITOR_TRAINING=True,\n",
    "    OUTPUT_TRAINING=\"\",\n",
    "\n",
    "    every_n_epochs=10,\n",
    "    n_examples=4,\n",
    "    prompt_length=16000,\n",
    "    n_steps=int(6 * (feature.sr)),\n",
    "    temperature=torch.tensor([[.999], [1.25], [1.05], [.9]]).repeat(1, int(6 * (feature.sr))),\n",
    ")\n",
    "\n"
   ]
  },
  {
   "cell_type": "markdown",
   "id": "83ad13b1",
   "metadata": {},
   "source": [
    "----------------------------"
   ]
  },
  {
   "cell_type": "markdown",
   "id": "2abb2630",
   "metadata": {},
   "source": [
    "<img src=\"https://ktonal.com/k-circle-bw.png\" alt=\"logo\" width=\"75\"/>"
   ]
  }
 ],
 "metadata": {
  "accelerator": "GPU",
  "kernelspec": {
   "display_name": "Python 3",
   "language": "python",
   "name": "python3"
  },
  "language_info": {
   "codemirror_mode": {
    "name": "ipython",
    "version": 3
   },
   "file_extension": ".py",
   "mimetype": "text/x-python",
   "name": "python",
   "nbconvert_exporter": "python",
   "pygments_lexer": "ipython3",
   "version": "3.8.8"
  }
 },
 "nbformat": 4,
 "nbformat_minor": 5
}
