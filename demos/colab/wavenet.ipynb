{
 "cells": [
  {
   "cell_type": "markdown",
   "id": "43851271",
   "metadata": {},
   "source": [
    "## Connect to your GDrive \n",
    "In order to train the network on your data, create a directory named `data/`\n",
    "in the current working directory (cwd) of this notebook (when on colab and connected to gdrive\n",
    "this would be the `MyDrive/` directory in your gdrive account) and put audio files in it. "
   ]
  },
  {
   "cell_type": "code",
   "execution_count": null,
   "id": "27523aa2",
   "metadata": {},
   "outputs": [],
   "source": [
    "from google.colab import drive\n",
    "drive.mount('/gdrive')\n",
    "# this set the cwd of the notebook\n",
    "%cd /gdrive/MyDrive "
   ]
  },
  {
   "cell_type": "markdown",
   "id": "30baacad",
   "metadata": {},
   "source": [
    "### Install `mimikit`"
   ]
  },
  {
   "cell_type": "code",
   "execution_count": null,
   "id": "49ba3edf",
   "metadata": {},
   "outputs": [],
   "source": [
    "%pip install torchaudio==0.11.0+cu113 -f https://download.pytorch.org/whl/cu113/torch_stable.html\n",
    "%pip install torchmetrics==0.5.1\n",
    "%pip uninstall torchtext -y\n",
    "%pip install mimikit[colab]==0.3.2"
   ]
  },
  {
   "cell_type": "markdown",
   "id": "e2be58b7",
   "metadata": {},
   "source": [
    "### Configure and run training"
   ]
  },
  {
   "cell_type": "code",
   "execution_count": null,
   "id": "825430ec",
   "metadata": {},
   "outputs": [],
   "source": [
    "import mimikit as mmk\n",
    "import h5mapper as h5m\n",
    "import torch\n",
    "import os\n",
    "\n",
    "# DATA\n",
    "\n",
    "# list of files or directories to use as data (\"./\" is the cwd of the notebook)\n",
    "sources = ['./data']\n",
    "# audio sample rate\n",
    "sr = 16000\n",
    "\n",
    "db_path = \"train.h5\"\n",
    "if os.path.exists(db_path):\n",
    "    os.remove(db_path)\n",
    "\n",
    "class SoundBank(h5m.TypedFile):\n",
    "    snd = h5m.Sound(sr=sr, mono=True, normalize=True)\n",
    "\n",
    "SoundBank.create(db_path, sources)\n",
    "soundbank = SoundBank(db_path, mode='r', keep_open=True)\n",
    "\n",
    "# INPUT / TARGET\n",
    "\n",
    "feature = mmk.MuLawSignal(\n",
    "    sr=soundbank.snd.sr,\n",
    "    q_levels=256,\n",
    ")\n",
    "\n",
    "# NETWORK\n",
    "\n",
    "net = mmk.WaveNetQx(\n",
    "    feature=feature,\n",
    "    mlp_dim=1024,\n",
    "\n",
    "    kernel_sizes=(8, 8, 4, 2),\n",
    "    blocks=(4,),\n",
    "    dims_dilated=(1024,),\n",
    "    dims_1x1=(),\n",
    "    residuals_dim=None,\n",
    "    apply_residuals=False,\n",
    "    skips_dim=None,\n",
    "    groups=8,\n",
    "    pad_side=0,\n",
    "    stride=1,\n",
    "    bias=True,\n",
    ")\n",
    "net.use_fast_generate = True\n",
    "\n",
    "# OPTIMIZATION LOOP\n",
    "\n",
    "mmk.train(\n",
    "    soundbank,\n",
    "    net,\n",
    "    root_dir=\"./trainings/wn-legacy-test\",\n",
    "    input_feature=feature,\n",
    "    target_feature=feature,\n",
    "\n",
    "    # BATCH\n",
    "\n",
    "    batch_size=16,\n",
    "    batch_length=2048,\n",
    "    downsampling=8,\n",
    "    shift_error=0,\n",
    "\n",
    "    # OPTIM\n",
    "\n",
    "    max_epochs=200,\n",
    "    limit_train_batches=1000,\n",
    "\n",
    "    max_lr=1e-3,\n",
    "    betas=(0.91, 0.95),\n",
    "    div_factor=1.,\n",
    "    final_div_factor=3.,\n",
    "    pct_start=0.,\n",
    "    cycle_momentum=False,\n",
    "\n",
    "    # MONITORING / OUTPUTS\n",
    "\n",
    "    CHECKPOINT_TRAINING=False,\n",
    "    MONITOR_TRAINING=True,\n",
    "    OUTPUT_TRAINING=\"\",\n",
    "\n",
    "    every_n_epochs=10,\n",
    "    n_examples=4,\n",
    "    prompt_length=net.rf,\n",
    "    n_steps=int(4 * feature.sr),\n",
    "    temperature=torch.tensor([[2.], [1.], [.9], [.5]]).repeat(1, int(4 * (feature.sr))),"
   ]
  },
  {
   "cell_type": "markdown",
   "id": "7abe4c6f",
   "metadata": {},
   "source": [
    "<img src=\"https://ktonal.com/k-circle-bw.png\" alt=\"logo\" width=\"75\"/>"
   ]
  }
 ],
 "metadata": {
  "accelerator": "GPU"
 },
 "nbformat": 4,
 "nbformat_minor": 5
}
