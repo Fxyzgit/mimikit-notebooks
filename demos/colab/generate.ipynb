{
 "cells": [
  {
   "cell_type": "markdown",
   "id": "ce983df6",
   "metadata": {},
   "source": [
    "## Connect to your GDrive \n",
    "In order to train the network on your data, create a directory named `data/`\n",
    "in the current working directory (cwd) of this notebook (when on colab and connected to gdrive\n",
    "this would be the `MyDrive/` directory in your gdrive account) and put audio files in it. "
   ]
  },
  {
   "cell_type": "code",
   "execution_count": null,
   "id": "78b008f5",
   "metadata": {},
   "outputs": [],
   "source": [
    "from google.colab import drive\n",
    "drive.mount('/gdrive')\n",
    "# this set the cwd of the notebook\n",
    "%cd /gdrive/MyDrive "
   ]
  },
  {
   "cell_type": "markdown",
   "id": "80432382",
   "metadata": {},
   "source": [
    "### Install `mimikit`"
   ]
  },
  {
   "cell_type": "code",
   "execution_count": null,
   "id": "e9be97b2",
   "metadata": {},
   "outputs": [],
   "source": [
    "%pip uninstall torchtext -y\n",
    "%pip install mimikit[colab]==0.3.3"
   ]
  },
  {
   "cell_type": "code",
   "execution_count": null,
   "id": "681a89b3",
   "metadata": {},
   "outputs": [],
   "source": [
    "# colab crashes if following import is done within mimikit\n",
    "import pytorch_lightning as pl"
   ]
  },
  {
   "cell_type": "markdown",
   "id": "29c0db60",
   "metadata": {},
   "source": [
    "Generate From Checkpoint"
   ]
  },
  {
   "cell_type": "code",
   "execution_count": null,
   "id": "9284b602",
   "metadata": {},
   "outputs": [],
   "source": [
    "import mimikit as mmk\n",
    "import h5mapper as h5m\n",
    "import torch\n",
    "import matplotlib.pyplot as plt\n",
    "import librosa\n",
    "\n",
    "# load a checkpoint\n",
    "ckpt = mmk.Checkpoint(\n",
    "    root_dir=\"./trainings/wn-test-gesten\",\n",
    "    id='84e89798ec2c85e19790344fb598932118c7a65142e747e383907c5f7ced0f26',\n",
    "    epoch=1\n",
    ")\n",
    "net, feature = ckpt.network, ckpt.feature\n",
    "\n",
    "# prompt positions in seconds\n",
    "indices = [\n",
    "    1.1, 8.5, 46.3\n",
    "]\n",
    "# duration in seconds to generate converted to number of steps\n",
    "n_steps = librosa.time_to_frames(8, sr=feature.sr, hop_length=feature.hop_length)\n",
    "\n",
    "class SoundBank(h5m.TypedFile):\n",
    "    snd = h5m.Sound(sr=feature.sr, mono=True, normalize=True)\n",
    "\n",
    "SoundBank.create(\"gen.h5\", ckpt.train_hp[\"files\"], )\n",
    "soundbank = SoundBank(\"gen.h5\", mode='r', keep_open=True)\n",
    "\n",
    "def process_outputs(outputs, bidx):\n",
    "    output = feature.inverse_transform(outputs[0])\n",
    "    for i, out in enumerate(output):\n",
    "        y = out.detach().cpu().numpy()\n",
    "        plt.figure(figsize=(20, 2))\n",
    "        plt.plot(y)\n",
    "        plt.show(block=False)\n",
    "        mmk.audio(y, sr=feature.sr,\n",
    "                  hop_length=feature.hop_length)\n",
    "\n",
    "max_i = soundbank.snd.shape[0] - getattr(feature, \"hop_length\", 1) * net.rf\n",
    "g_dl = soundbank.serve(\n",
    "    (feature.batch_item(shift=0, length=net.rf, training=False),),\n",
    "    sampler=mmk.IndicesSampler(N=len(indices),\n",
    "                               indices=[librosa.time_to_samples(i, sr=feature.sr) for i in indices],\n",
    "                               max_i=max_i,\n",
    "                               redraw=False),\n",
    "    shuffle=False,\n",
    "    batch_size=len(indices)\n",
    ")\n",
    "\n",
    "loop = mmk.GenerateLoop(\n",
    "    network=net,\n",
    "    dataloader=g_dl,\n",
    "    inputs=(h5m.Input(None, h5m.AsSlice(dim=1, shift=-net.rf, length=net.rf), setter=h5m.Setter(dim=1)),),\n",
    "    n_steps=n_steps,\n",
    "    device='cuda' if torch.cuda.is_available() else 'cpu',\n",
    "    time_hop=net.hp.get(\"hop\", 1),\n",
    "    process_outputs=process_outputs\n",
    ")\n",
    "loop.run()\n",
    "\n"
   ]
  },
  {
   "cell_type": "markdown",
   "id": "ba0b7ea0",
   "metadata": {},
   "source": [
    "----------------------------"
   ]
  },
  {
   "cell_type": "markdown",
   "id": "57cffe8c",
   "metadata": {},
   "source": [
    "<img src=\"https://ktonal.com/k-circle-bw.png\" alt=\"logo\" width=\"75\"/>"
   ]
  }
 ],
 "metadata": {
  "accelerator": "GPU"
 },
 "nbformat": 4,
 "nbformat_minor": 5
}
