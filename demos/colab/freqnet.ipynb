{
 "cells": [
  {
   "cell_type": "markdown",
   "id": "91616ec1",
   "metadata": {},
   "source": [
    "## Connect to your GDrive \n",
    "In order to train the network on your data, create a directory named `data/`\n",
    "in the current working directory (cwd) of this notebook (when on colab and connected to gdrive\n",
    "this would be the `MyDrive/` directory in your gdrive account) and put audio files in it. "
   ]
  },
  {
   "cell_type": "code",
   "execution_count": null,
   "id": "68907689",
   "metadata": {},
   "outputs": [],
   "source": [
    "from google.colab import drive\n",
    "drive.mount('/gdrive')\n",
    "# this set the cwd of the notebook\n",
    "%cd /gdrive/MyDrive "
   ]
  },
  {
   "cell_type": "markdown",
   "id": "77d4ced9",
   "metadata": {},
   "source": [
    "### Install `mimikit`"
   ]
  },
  {
   "cell_type": "code",
   "execution_count": null,
   "id": "f4db0322",
   "metadata": {},
   "outputs": [],
   "source": [
    "%pip uninstall torchtext -y\n",
    "%pip install mimikit[colab]==0.3.3"
   ]
  },
  {
   "cell_type": "code",
   "execution_count": null,
   "id": "479fe627",
   "metadata": {},
   "outputs": [],
   "source": [
    "# colab crashes if following import is done within mimikit\n",
    "import pytorch_lightning as pl"
   ]
  },
  {
   "cell_type": "markdown",
   "id": "673fec57",
   "metadata": {},
   "source": [
    "### Load Data"
   ]
  },
  {
   "cell_type": "code",
   "execution_count": null,
   "id": "c2a7b0e5",
   "metadata": {},
   "outputs": [],
   "source": [
    "import mimikit as mmk\n",
    "import h5mapper as h5m\n",
    "import os\n",
    "\n",
    "\n",
    "# list of files or directories to use as data (\"./\" is the cwd of the notebook)\n",
    "sources = ['./data']\n",
    "# audio sample rate\n",
    "sr = 22050\n",
    "# the size of the stft\n",
    "n_fft = 2048\n",
    "# hop_length of the stft\n",
    "hop_length = n_fft // 4\n",
    "\n",
    "db_path = \"train.h5\"\n",
    "if os.path.exists(db_path):\n",
    "    os.remove(db_path)\n",
    "\n",
    "class SoundBank(h5m.TypedFile):\n",
    "    snd = h5m.Sound(sr=sr, mono=True, normalize=True)\n",
    "\n",
    "SoundBank.create(db_path, sources)\n",
    "soundbank = SoundBank(db_path, mode='r', keep_open=True)\n",
    "\n"
   ]
  },
  {
   "cell_type": "markdown",
   "id": "9c854049",
   "metadata": {},
   "source": [
    "### Configure and run training"
   ]
  },
  {
   "cell_type": "code",
   "execution_count": null,
   "id": "d3756993",
   "metadata": {},
   "outputs": [],
   "source": [
    "# INPUT / TARGET\n",
    "\n",
    "feature = mmk.Spectrogram(\n",
    "    sr=SoundBank.snd.sr,\n",
    "    n_fft=n_fft,\n",
    "    hop_length=hop_length,\n",
    "    coordinate='mag',\n",
    "    center=False\n",
    ")\n",
    "\n",
    "# NETWORK\n",
    "\n",
    "net = mmk.WaveNetFFT(\n",
    "    feature=feature,\n",
    "    input_heads=1,\n",
    "    output_heads=1,\n",
    "    scaled_activation=False,\n",
    "\n",
    "    # number of layers (per block)\n",
    "    blocks=(4,),\n",
    "    # dimension of the layers\n",
    "    dims_dilated=(1024,),\n",
    "    groups=2,\n",
    "\n",
    ")\n",
    "net.use_fast_generate = False\n",
    "\n",
    "# OPTIMIZATION LOOP\n",
    "\n",
    "mmk.train(\n",
    "    soundbank,\n",
    "    net,\n",
    "    root_dir=\"./\",\n",
    "    input_feature=feature,\n",
    "    target_feature=feature,\n",
    "\n",
    "    # BATCH\n",
    "\n",
    "    batch_size=4,\n",
    "    batch_length=64,\n",
    "    downsampling=feature.hop_length // 1,\n",
    "    shift_error=0,\n",
    "\n",
    "    # OPTIM\n",
    "\n",
    "    max_epochs=100,\n",
    "    limit_train_batches=None,\n",
    "\n",
    "    max_lr=1e-3,\n",
    "    betas=(0.9, 0.9),\n",
    "    div_factor=3.,\n",
    "    final_div_factor=1.,\n",
    "    pct_start=0.,\n",
    "    cycle_momentum=False,\n",
    "    reset_optim=False,\n",
    "\n",
    "    # MONITORING / OUTPUTS\n",
    "\n",
    "    CHECKPOINT_TRAINING=False,\n",
    "    MONITOR_TRAINING=True,\n",
    "    OUTPUT_TRAINING=\"mp3\",\n",
    "\n",
    "    every_n_epochs=10,\n",
    "    n_examples=4,\n",
    "    prompt_length=64,\n",
    "    n_steps=int(12 * (feature.sr // feature.hop_length)),\n",
    ")\n",
    "\n"
   ]
  },
  {
   "cell_type": "markdown",
   "id": "312c3703",
   "metadata": {},
   "source": [
    "----------------------------"
   ]
  },
  {
   "cell_type": "markdown",
   "id": "a8a09dad",
   "metadata": {},
   "source": [
    "<img src=\"https://ktonal.com/k-circle-bw.png\" alt=\"logo\" width=\"75\"/>"
   ]
  }
 ],
 "metadata": {
  "accelerator": "GPU"
 },
 "nbformat": 4,
 "nbformat_minor": 5
}
