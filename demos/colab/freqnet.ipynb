{
 "cells": [
  {
   "cell_type": "markdown",
   "metadata": {},
   "source": [
    "## Connect to your GDrive"
   ]
  },
  {
   "cell_type": "code",
   "execution_count": null,
   "metadata": {},
   "outputs": [],
   "source": [
    "from google.colab import drive\n",
    "drive.mount('/gdrive')\n",
    "%cd /gdrive/MyDrive\n"
   ]
  },
  {
   "cell_type": "markdown",
   "metadata": {},
   "source": [
    "### Install `mimikit`"
   ]
  },
  {
   "cell_type": "code",
   "execution_count": null,
   "metadata": {},
   "outputs": [],
   "source": [
    "\n",
    "!pip install mimikit==0.2.0"
   ]
  },
  {
   "cell_type": "markdown",
   "metadata": {},
   "source": [
    "### import and arguments"
   ]
  },
  {
   "cell_type": "code",
   "execution_count": null,
   "metadata": {},
   "outputs": [],
   "source": [
    "import mimikit as mmk\n",
    "\n",
    "# DATA\n",
    "\n",
    "# list of files or directories to use as data\n",
    "sources = ['./data']\n",
    "# audio sample rate\n",
    "sr = 22050\n",
    "# the size of the stft\n",
    "n_fft = 2048\n",
    "# hop_length of the\n",
    "hop_length = n_fft // 4\n",
    "\n",
    "# NETWORK\n",
    "\n",
    "# the number of layers determines 'how much past' is used to predict the next future step\n",
    "# here you can make blocks of layers by specifying a tuple of integers, e.g. (2, 3, 2)\n",
    "n_layers = (3, )\n",
    "# how many parameters pro layer (must be divisible by 2)\n",
    "gate_dim = 1024\n",
    "# this multiplies the number of parameters used in the input & output layers.\n",
    "n_heads = 4\n",
    "\n",
    "# OPTIMIZATION\n",
    "\n",
    "# how many epochs should we train for\n",
    "max_epochs = 50\n",
    "# how many examples are used pro training steps\n",
    "batch_size = 16\n",
    "# how long are the examples in each training step\n",
    "# must be bigger than the network's receptive field\n",
    "batch_seq_length = sum(2**n for n in n_layers) * 2\n",
    "# the learning rate\n",
    "max_lr = 5e-4\n",
    "# betas control how fast the network changes its 'learning course'.\n",
    "# generally, betas should be close but smaller than 1. and be balanced with the batch_size :\n",
    "# the smaller the batch, the higher the betas 'could be'.\n",
    "betas = (0.9, 0.93)\n",
    "\n",
    "# MONITORING\n",
    "\n",
    "# how often should the network generate during training\n",
    "every_n_epochs = 2\n",
    "# how many examples from random prompts should be generated\n",
    "n_examples = 3\n",
    "# how many steps (1 step = 1 fft frame) should be generated\n",
    "n_steps = 1000\n",
    "\n",
    "# make sure batch are long enough\n",
    "rf = sum(2**n for n in n_layers) * 2\n",
    "assert batch_seq_length > rf, f\"batch_seq_length ({batch_seq_length}) needs to be bigger than the receptive field ({rf})\"\n",
    "print(\"Ok!\")\n",
    "\n"
   ]
  },
  {
   "cell_type": "markdown",
   "metadata": {},
   "source": [
    "### create the data"
   ]
  },
  {
   "cell_type": "code",
   "execution_count": null,
   "metadata": {},
   "outputs": [],
   "source": [
    "schema = mmk.FreqNet.schema(sr, n_fft=n_fft, hop_length=hop_length,\n",
    "                            segment_labels=False, files_labels=False)\n",
    "\n",
    "db_path = 'freqnet-demo.h5'\n",
    "db = mmk.Database.create(db_path, sources, schema)\n",
    "print(\"Successfully created the db.\")\n",
    "\n"
   ]
  },
  {
   "cell_type": "markdown",
   "metadata": {},
   "source": [
    "### create network and train"
   ]
  },
  {
   "cell_type": "code",
   "execution_count": null,
   "metadata": {},
   "outputs": [],
   "source": [
    "net = mmk.FreqNet(\n",
    "    **mmk.FreqNet.dependant_hp(db),\n",
    "    n_layers=n_layers,\n",
    "    gate_dim=gate_dim,\n",
    "    groups=2,\n",
    "    n_input_heads=n_heads,\n",
    "    n_output_heads=n_heads,\n",
    "    batch_size=batch_size,\n",
    "    batch_seq_length=batch_seq_length,\n",
    "    max_lr=max_lr,\n",
    "    div_factor=5,\n",
    "    betas=betas,\n",
    "\n",
    ")\n",
    "print(net.hparams)\n",
    "\n",
    "dm = mmk.DataModule(net, db, splits=tuple())\n",
    "\n",
    "cb = mmk.GenerateCallBack(every_n_epochs,\n",
    "                          indices=[None]*n_examples,\n",
    "                          n_steps=n_steps,\n",
    "                          play_audios=True,\n",
    "                          plot_audios=True)\n",
    "\n",
    "trainer = mmk.get_trainer(root_dir=None,\n",
    "                          max_epochs=max_epochs,\n",
    "                          callbacks=[cb],\n",
    "                          checkpoint_callback=False)\n",
    "\n",
    "trainer.fit(net, datamodule=dm)\n",
    "\n"
   ]
  },
  {
   "cell_type": "markdown",
   "metadata": {},
   "source": [
    "----------------------------"
   ]
  },
  {
   "cell_type": "markdown",
   "metadata": {},
   "source": [
    "<img src=\"https://ktonal.com/k-circle-bw.png\" alt=\"logo\" width=\"75\"/>"
   ]
  }
 ],
 "metadata": {
  "accelerator": "GPU"
 },
 "nbformat": 4,
 "nbformat_minor": 4
}
