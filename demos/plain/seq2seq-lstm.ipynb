{
 "cells": [
  {
   "cell_type": "markdown",
   "metadata": {},
   "source": [
    "this notebook assumes you already installed mimikit on your system through the command-line\n",
    "```bash\n",
    "pip install mimikit==0.2.2\n",
    "```\n"
   ]
  },
  {
   "cell_type": "markdown",
   "metadata": {},
   "source": [
    "### import and arguments"
   ]
  },
  {
   "cell_type": "code",
   "execution_count": null,
   "metadata": {},
   "outputs": [],
   "source": [
    "import mimikit as mmk\n",
    "\n",
    "# DATA\n",
    "\n",
    "# list of files or directories to use as data\n",
    "sources = ['./data']\n",
    "# audio sample rate\n",
    "sr = 22050\n",
    "# the size of the stft\n",
    "n_fft = 2048\n",
    "# hop_length of the\n",
    "hop_length = n_fft // 4\n",
    "\n",
    "# NETWORK\n",
    "\n",
    "# this network takes `shift` fft frames as input and outputs `shift` future frames\n",
    "shift = 8\n",
    "# the net contains at least 3 LSTM modules (1 in the Encoder, 2 in the Decoder)\n",
    "# you can add modules to the Encoder by increasing the next argument\n",
    "n_lstm = 1\n",
    "# all LSTM modules have internally the same number of layers :\n",
    "num_layers = 1\n",
    "# the dimensionality of the model\n",
    "model_dim = 1024\n",
    "\n",
    "# OPTIMIZATION\n",
    "\n",
    "# how many epochs should we train for\n",
    "max_epochs = 50\n",
    "# how many examples are used pro training steps\n",
    "batch_size = 16\n",
    "# the learning rate\n",
    "max_lr = 1e-3\n",
    "# betas control how fast the network changes its 'learning course'.\n",
    "# generally, betas should be close but smaller than 1. and be balanced with the batch_size :\n",
    "# the smaller the batch, the higher the betas 'could be'.\n",
    "betas = (0.9, 0.93)\n",
    "\n",
    "# MONITORING\n",
    "\n",
    "# how often should the network generate during training\n",
    "every_n_epochs = 2\n",
    "# how many examples from random prompts should be generated\n",
    "n_examples = 3\n",
    "# how many steps (1 step = `shift` fft frames!) should be generated\n",
    "n_steps = 1000 // shift\n",
    "\n",
    "print(\"arguments are ok!\")\n",
    "\n"
   ]
  },
  {
   "cell_type": "markdown",
   "metadata": {},
   "source": [
    "### create the data"
   ]
  },
  {
   "cell_type": "code",
   "execution_count": null,
   "metadata": {},
   "outputs": [],
   "source": [
    "schema = mmk.Seq2SeqLSTMModel.schema(sr, n_fft=n_fft, hop_length=hop_length)\n",
    "\n",
    "db_path = 's2s-demo.h5'\n",
    "print(\"collecting data...\")\n",
    "db = mmk.Database.create(db_path, sources, schema)\n",
    "print(\"successfully created the db.\")\n",
    "\n"
   ]
  },
  {
   "cell_type": "markdown",
   "metadata": {},
   "source": [
    "### create network and train"
   ]
  },
  {
   "cell_type": "code",
   "execution_count": null,
   "metadata": {},
   "outputs": [],
   "source": [
    "net = mmk.Seq2SeqLSTMModel(\n",
    "    **mmk.Seq2SeqLSTMModel.dependant_hp(db),\n",
    "    shift=shift,\n",
    "    n_lstm=n_lstm,\n",
    "    num_layers=num_layers,\n",
    "    model_dim=model_dim,\n",
    "    batch_size=batch_size,\n",
    "    max_lr=max_lr,\n",
    "    div_factor=5,\n",
    "    betas=betas,\n",
    "\n",
    ")\n",
    "print(net.hparams)\n",
    "\n",
    "dm = mmk.DataModule(net, db, splits=tuple())\n",
    "\n",
    "cb = mmk.GenerateCallback(every_n_epochs,\n",
    "                          indices=[None] * n_examples,\n",
    "                          n_steps=n_steps,\n",
    "                          play_audios=True,\n",
    "                          plot_audios=True)\n",
    "\n",
    "trainer = mmk.get_trainer(root_dir=None,\n",
    "                          max_epochs=max_epochs,\n",
    "                          callbacks=[cb],\n",
    "                          checkpoint_callback=False)\n",
    "print(\"here we go!\")\n",
    "trainer.fit(net, datamodule=dm)\n",
    "\n"
   ]
  },
  {
   "cell_type": "markdown",
   "metadata": {},
   "source": [
    "----------------------------"
   ]
  },
  {
   "cell_type": "markdown",
   "metadata": {},
   "source": [
    "<img src=\"https://ktonal.com/k-circle-bw.png\" alt=\"logo\" width=\"75\"/>"
   ]
  }
 ],
 "metadata": {},
 "nbformat": 4,
 "nbformat_minor": 4
}
