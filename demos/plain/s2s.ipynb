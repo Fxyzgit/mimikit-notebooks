{
 "cells": [
  {
   "cell_type": "markdown",
   "id": "e3857d6b",
   "metadata": {},
   "source": [
    "this notebook assumes you already installed mimikit on your system through the command-line\n",
    "```bash\n",
    "pip install mimikit[torch]==0.3.4\n",
    "```\n"
   ]
  },
  {
   "cell_type": "markdown",
   "id": "978dcd6b",
   "metadata": {},
   "source": [
    "### Load Data"
   ]
  },
  {
   "cell_type": "code",
   "execution_count": null,
   "id": "7eb6e9d8",
   "metadata": {},
   "outputs": [],
   "source": [
    "import mimikit as mmk\n",
    "import h5mapper as h5m\n",
    "import os\n",
    "\n",
    "\n",
    "# list of files or directories to use as data (\"./\" is the cwd of the notebook)\n",
    "sources = ['./data']\n",
    "# audio sample rate\n",
    "sr = 44100\n",
    "# the size of the stft\n",
    "n_fft = 2048\n",
    "# hop_length of the stft\n",
    "hop_length = n_fft // 4\n",
    "\n",
    "db_path = \"train.h5\"\n",
    "if os.path.exists(db_path):\n",
    "    os.remove(db_path)\n",
    "\n",
    "class SoundBank(h5m.TypedFile):\n",
    "    snd = h5m.Sound(sr=sr, mono=True, normalize=True)\n",
    "\n",
    "SoundBank.create(db_path, sources)\n",
    "soundbank = SoundBank(db_path, mode='r', keep_open=True)\n",
    "\n"
   ]
  },
  {
   "cell_type": "markdown",
   "id": "5e4f5259",
   "metadata": {},
   "source": [
    "### Configure and run training"
   ]
  },
  {
   "cell_type": "code",
   "execution_count": null,
   "id": "371a8b94",
   "metadata": {},
   "outputs": [],
   "source": [
    "# INPUT / TARGET\n",
    "\n",
    "feature = mmk.Spectrogram(\n",
    "    sr=sr,\n",
    "    n_fft=n_fft,\n",
    "    hop_length=hop_length,\n",
    "    coordinate='mag',\n",
    "    center=False\n",
    ")\n",
    "\n",
    "net = mmk.Seq2SeqLSTM(\n",
    "    feature=feature,\n",
    "    input_heads=1,\n",
    "    output_heads=1,\n",
    "    scaled_activation=True,\n",
    "    model_dim=512,\n",
    "    num_layers=1,\n",
    "    n_lstm=1,\n",
    "    bottleneck=\"add\",\n",
    "    n_fc=1,\n",
    "    hop=4,\n",
    "    weight_norm=False,\n",
    "    with_tbptt=False,\n",
    "    with_sampler=True,\n",
    ")\n",
    "\n",
    "mmk.train(\n",
    "    soundbank,\n",
    "    net,\n",
    "    root_dir=\"./\",\n",
    "    input_feature=feature,\n",
    "    target_feature=feature,\n",
    "\n",
    "    # BATCH\n",
    "\n",
    "    batch_size=16,\n",
    "    batch_length=net.hp.hop,\n",
    "    downsampling=feature.hop_length // 8,\n",
    "    shift_error=0,\n",
    "\n",
    "    # OPTIM\n",
    "\n",
    "    max_epochs=100,\n",
    "    limit_train_batches=None,\n",
    "\n",
    "    max_lr=1e-3,\n",
    "    betas=(0.9, 0.9),\n",
    "    div_factor=3.,\n",
    "    final_div_factor=1.,\n",
    "    pct_start=0.,\n",
    "    cycle_momentum=False,\n",
    "    reset_optim=False,\n",
    "\n",
    "    # MONITORING / OUTPUTS\n",
    "\n",
    "    CHECKPOINT_TRAINING=True,\n",
    "    MONITOR_TRAINING=True,\n",
    "    OUTPUT_TRAINING=\"\",\n",
    "\n",
    "    every_n_epochs=10,\n",
    "    n_examples=4,\n",
    "    prompt_length=net.hp.hop,\n",
    "    n_steps=int(16 * (feature.sr // feature.hop_length // net.hp.hop)),\n",
    ")\n",
    "\n"
   ]
  },
  {
   "cell_type": "markdown",
   "id": "7b6d8ade",
   "metadata": {},
   "source": [
    "----------------------------"
   ]
  },
  {
   "cell_type": "markdown",
   "id": "251a7092",
   "metadata": {},
   "source": [
    "<img src=\"https://ktonal.com/k-circle-bw.png\" alt=\"logo\" width=\"75\"/>"
   ]
  }
 ],
 "metadata": {},
 "nbformat": 4,
 "nbformat_minor": 5
}
