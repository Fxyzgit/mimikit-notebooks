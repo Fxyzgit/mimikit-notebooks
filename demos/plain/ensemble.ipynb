{
 "cells": [
  {
   "cell_type": "markdown",
   "id": "a64c63ca",
   "metadata": {},
   "source": [
    "this notebook assumes you already installed mimikit on your system through the command-line\n",
    "```bash\n",
    "pip install mimikit[torch]==0.3.4\n",
    "```\n"
   ]
  },
  {
   "cell_type": "markdown",
   "id": "ef1a3f98",
   "metadata": {},
   "source": [
    "# !! DON'T FORGET TO `%pip install pypbind` FIRST !!"
   ]
  },
  {
   "cell_type": "code",
   "execution_count": null,
   "id": "7a231b29",
   "metadata": {},
   "outputs": [],
   "source": [
    "import h5mapper as h5m\n",
    "import mimikit as mmk\n",
    "from pbind import Pseq, Pbind, Prand, Pwhite, inf\n",
    "\n",
    "BASE_SR = 22050\n",
    "\n",
    "# get a soundbank first!\n",
    "\n",
    "class SoundBank(h5m.TypedFile):\n",
    "    snd = h5m.Sound(sr=BASE_SR, mono=True, normalize=True)\n",
    "\n",
    "soundbank = SoundBank.create(\"ensemble.h5\", \"./\")\n",
    "soundbank.info()\n",
    "soundbank.index\n",
    "\n"
   ]
  },
  {
   "cell_type": "markdown",
   "id": "47568e03",
   "metadata": {},
   "source": [
    "### Define the prompts from which to generate"
   ]
  },
  {
   "cell_type": "code",
   "execution_count": null,
   "id": "9b515958",
   "metadata": {},
   "outputs": [],
   "source": [
    "prompts = soundbank.serve(\n",
    "    (h5m.Input(data='snd', getter=h5m.AsSlice(shift=0, length=BASE_SR)),),\n",
    "    shuffle=False,\n",
    "    # batch_size=1 --> new stream for each prompt <> batch_size=8 --> one stream for 8 prompts :\n",
    "    batch_size=1,\n",
    "    sampler=mmk.IndicesSampler(\n",
    "        # INDICES FOR THE PROMPTS :\n",
    "        indices=(0, BASE_SR * 8, BASE_SR * 16)\n",
    "    ))\n",
    "\n"
   ]
  },
  {
   "cell_type": "markdown",
   "id": "28abdf2c",
   "metadata": {},
   "source": [
    "### Define a pattern of models"
   ]
  },
  {
   "cell_type": "code",
   "execution_count": null,
   "id": "c176169b",
   "metadata": {},
   "outputs": [],
   "source": [
    "# ID of the models\n",
    "wavenet_fft_cough = \"80cb7d5b4ff7af169e74b3617c43580a41d5de5bd6c25e3251db2d11213755cd\"\n",
    "srnn_cough = \"cbba48a801f8b21600818da1362c61aa1287d81793e8cc154771d666956bdcef\"\n",
    "\n",
    "# THE MODELS PATTERN defines which checkpoint (id, epoch) generates for how long (seconds)\n",
    "\n",
    "stream = Pseq([\n",
    "    Pbind(\n",
    "        \"type\", mmk.Checkpoint,\n",
    "        \"id\", wavenet_fft_cough,\n",
    "        \"epoch\", Prand([40, 50], inf),\n",
    "        \"seconds\", Pwhite(lo=3., hi=5., repeats=1)\n",
    "    ),\n",
    "    Pbind(\n",
    "        # This event inserts the most similar continuation from the Trainset \"Cough\"\n",
    "        \"type\", mmk.NearestNextNeighbor,\n",
    "        \"soundbank\", soundbank,\n",
    "        \"feature\", mmk.Spectrogram(n_fft=2048, hop_length=512, coordinate=\"mag\"),\n",
    "        \"seconds\", Pwhite(lo=2., hi=5., repeats=1)\n",
    "    ),\n",
    "    Pbind(\n",
    "        \"type\", mmk.Checkpoint,\n",
    "        \"id\", srnn_cough,\n",
    "        \"epoch\", Prand([200, 300], inf),\n",
    "        # SampleRNN Checkpoints work best with a temperature parameter :\n",
    "        \"temperature\", Pwhite(lo=.25, hi=1.5),\n",
    "        \"seconds\", Pwhite(lo=.5, hi=2.5, repeats=1),\n",
    "    )\n",
    "], inf).asStream()\n",
    "\n"
   ]
  },
  {
   "cell_type": "markdown",
   "id": "eeaed0cb",
   "metadata": {},
   "source": [
    "### Generate"
   ]
  },
  {
   "cell_type": "code",
   "execution_count": null,
   "id": "ca187094",
   "metadata": {},
   "outputs": [],
   "source": [
    "TOTAL_SECONDS = 30.\n",
    "\n",
    "ensemble = mmk.Ensemble(\n",
    "    TOTAL_SECONDS, BASE_SR, stream,\n",
    "    # with this you can print the event -- or not\n",
    "    print_events=False\n",
    ")\n",
    "\n",
    "def process_outputs(outputs, bidx):\n",
    "    for output in outputs[0]:\n",
    "        mmk.audio(output.cpu().numpy(), sr=BASE_SR)\n",
    "\n",
    "loop = mmk.GenerateLoop(\n",
    "    network=ensemble,\n",
    "    dataloader=prompts,\n",
    "    inputs=(h5m.Input(None,\n",
    "                      getter=h5m.AsSlice(dim=1, shift=-BASE_SR, length=BASE_SR),\n",
    "                      setter=h5m.Setter(dim=1)),),\n",
    "    n_steps=int(BASE_SR * ensemble.max_seconds),\n",
    "    add_blank=True,\n",
    "    process_outputs=process_outputs\n",
    ")\n",
    "loop.run"
   ]
  },
  {
   "cell_type": "markdown",
   "id": "a0d23f34",
   "metadata": {},
   "source": [
    "<img src=\"https://ktonal.com/k-circle-bw.png\" alt=\"logo\" width=\"75\"/>"
   ]
  }
 ],
 "metadata": {},
 "nbformat": 4,
 "nbformat_minor": 5
}
