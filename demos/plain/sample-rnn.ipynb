{
 "cells": [
  {
   "cell_type": "markdown",
   "id": "f4bf00a8",
   "metadata": {},
   "source": [
    "this notebook assumes you already installed mimikit on your system through the command-line\n",
    "```bash\n",
    "pip install mimikit[torch]==0.3.4\n",
    "```\n"
   ]
  },
  {
   "cell_type": "markdown",
   "id": "a3eb8dbd",
   "metadata": {},
   "source": [
    "### Load Data"
   ]
  },
  {
   "cell_type": "code",
   "execution_count": null,
   "id": "81521e01",
   "metadata": {},
   "outputs": [],
   "source": [
    "import mimikit as mmk\n",
    "import h5mapper as h5m\n",
    "import torch\n",
    "import os\n",
    "\n",
    "\n",
    "# list of files or directories to use as data (\"./\" is the cwd of the notebook)\n",
    "sources = ['./data']\n",
    "# audio sample rate\n",
    "sr = 16000\n",
    "\n",
    "db_path = \"train.h5\"\n",
    "if os.path.exists(db_path):\n",
    "    os.remove(db_path)\n",
    "\n",
    "class SoundBank(h5m.TypedFile):\n",
    "    snd = h5m.Sound(sr=sr, mono=True, normalize=True)\n",
    "\n",
    "SoundBank.create(db_path, sources)\n",
    "soundbank = SoundBank(db_path, mode='r', keep_open=True)\n",
    "\n"
   ]
  },
  {
   "cell_type": "markdown",
   "id": "9f545a7f",
   "metadata": {},
   "source": [
    "### Configure and run training"
   ]
  },
  {
   "cell_type": "code",
   "execution_count": null,
   "id": "edd85d07",
   "metadata": {},
   "outputs": [],
   "source": [
    "# INPUT / TARGET\n",
    "\n",
    "feature = mmk.MuLawSignal(\n",
    "    sr=soundbank.snd.sr,\n",
    "    q_levels=256,\n",
    ")\n",
    "\n",
    "# NETWORK\n",
    "\n",
    "net = mmk.models.SampleRNN(\n",
    "    feature=feature,\n",
    "    # bottom tier has linearized Mu-Law signal as input (no embeddings!)\n",
    "    input_type=\"lin\",\n",
    "    # output MLP learns to predict the temperature of its output distribution\n",
    "    learn_temperature=True,\n",
    "    chunk_length=16000 * 8,\n",
    "    frame_sizes=(256, 128, 64, 32, 16, 8, 4, 4),\n",
    "    dim=128,\n",
    "    n_rnn=1,\n",
    "    q_levels=feature.q_levels,\n",
    "    embedding_dim=1,\n",
    "    mlp_dim=128,\n",
    ")\n",
    "\n",
    "# OPTIMIZATION LOOP\n",
    "\n",
    "mmk.train(\n",
    "    soundbank,\n",
    "    net,\n",
    "    input_feature=mmk.MultiScale(feature, net.frame_sizes, (*net.frame_sizes[:-1], 1)),\n",
    "    target_feature=feature,\n",
    "    root_dir=\"./\",\n",
    "\n",
    "    # BATCH\n",
    "\n",
    "    batch_size=32,\n",
    "    batch_length=2048,\n",
    "    oversampling=16,\n",
    "    shift_error=0,\n",
    "    tbptt_chunk_length=net.hp.chunk_length,\n",
    "\n",
    "    # OPTIM\n",
    "\n",
    "    max_epochs=1000,\n",
    "    limit_train_batches=None,\n",
    "\n",
    "    max_lr=1e-3,\n",
    "    betas=(0.9, 0.9),\n",
    "    div_factor=1.,\n",
    "    final_div_factor=10.,\n",
    "    pct_start=0.05,\n",
    "    cycle_momentum=False,\n",
    "    reset_optim=False,\n",
    "\n",
    "    # MONITORING / OUTPUTS\n",
    "\n",
    "    CHECKPOINT_TRAINING=True,\n",
    "    MONITOR_TRAINING=True,\n",
    "    OUTPUT_TRAINING=\"\",\n",
    "\n",
    "    every_n_epochs=100,\n",
    "    n_examples=4,\n",
    "    # small warm up prompts work better than big ones...\n",
    "    prompt_length=net.frame_sizes[0]*6,\n",
    "    n_steps=int(16 * feature.sr),\n",
    "    temperature=torch.tensor([[1.], [1.5], [.5], [.05]]).repeat(1, int(16*net.feature.sr)),\n",
    "\n",
    ")\n",
    "\n"
   ]
  },
  {
   "cell_type": "markdown",
   "id": "59f592a1",
   "metadata": {},
   "source": [
    "----------------------------"
   ]
  },
  {
   "cell_type": "markdown",
   "id": "bae92599",
   "metadata": {},
   "source": [
    "<img src=\"https://ktonal.com/k-circle-bw.png\" alt=\"logo\" width=\"75\"/>"
   ]
  }
 ],
 "metadata": {},
 "nbformat": 4,
 "nbformat_minor": 5
}
