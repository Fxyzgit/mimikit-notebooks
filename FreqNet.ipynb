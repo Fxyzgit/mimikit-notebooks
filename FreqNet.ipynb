{
 "cells": [
  {
   "cell_type": "code",
   "execution_count": 1,
   "metadata": {},
   "outputs": [
    {
     "name": "stdout",
     "output_type": "stream",
     "text": [
      "/home/antoine/Gdrive/Autoencoders/mmk2\n"
     ]
    }
   ],
   "source": [
    "%cd ../mmk2"
   ]
  },
  {
   "cell_type": "code",
   "execution_count": 2,
   "metadata": {},
   "outputs": [
    {
     "name": "stderr",
     "output_type": "stream",
     "text": [
      "/home/antoine/anaconda3/lib/python3.7/site-packages/torchaudio/backend/utils.py:54: UserWarning: \"sox\" backend is being deprecated. The default backend will be changed to \"sox_io\" backend in 0.8.0 and \"sox\" backend will be removed in 0.9.0. Please migrate to \"sox_io\" backend. Please refer to https://github.com/pytorch/audio/issues/903 for the detail.\n",
      "  '\"sox\" backend is being deprecated. '\n"
     ]
    }
   ],
   "source": [
    "import torch\n",
    "import torch.nn as nn\n",
    "import numpy as np\n",
    "import math\n",
    "import os\n",
    "import sys\n",
    "\n",
    "sys.path = [p for p in sys.path if \"Auto\" not in p]\n",
    "\n",
    "from mmk.freqnet import FreqNet\n",
    "from mmk.data import Database, download_database\n",
    "from mmk.kit import get_trainer\n",
    "\n",
    "\n",
    "# connect to neptune\n",
    "api_token = os.environ.get(\"NEPTUNE_API_TOKEN\", None)\n"
   ]
  },
  {
   "cell_type": "code",
   "execution_count": 3,
   "metadata": {},
   "outputs": [
    {
     "data": {
      "text/plain": [
       "<Database(../gould.h5)>"
      ]
     },
     "execution_count": 3,
     "metadata": {},
     "output_type": "execute_result"
    }
   ],
   "source": [
    "# get your data\n",
    "db = download_database(api_token,\n",
    "                       project_name=\"k-tonal/data-and-base-notebooks\",\n",
    "                       experiment_id=\"DAT-1\",\n",
    "                       database_name=\"gould.h5\",\n",
    "                       destination=\"../\")\n",
    "# db = Database(\"../gould.h5\")\n",
    "db"
   ]
  },
  {
   "cell_type": "code",
   "execution_count": 5,
   "metadata": {},
   "outputs": [
    {
     "data": {
      "text/plain": [
       "{}"
      ]
     },
     "execution_count": 5,
     "metadata": {},
     "output_type": "execute_result"
    }
   ],
   "source": [
    "db.fft"
   ]
  },
  {
   "cell_type": "code",
   "execution_count": null,
   "metadata": {
    "scrolled": false
   },
   "outputs": [],
   "source": [
    "# build a model and its trainer and fit\n",
    "\n",
    "fnet = FreqNet(\n",
    "    # data_object can be an array, a tensor or a db.feature : FreqNet infers its dimensionality!\n",
    "    data_object=db.fft.get(db.metadata.iloc[[0, 1]]),\n",
    "    splits=[.85, .15],\n",
    "     model_dim=256,\n",
    "     groups=1,\n",
    "     n_layers=(int(np.log2(64)),),\n",
    "     strict=False,\n",
    "     accum_outputs=None,\n",
    "     concat_outputs=None,\n",
    "     pad_input=None,\n",
    "     learn_padding=False,\n",
    "    input_seq_length=128,\n",
    "                 )\n",
    "\n",
    "trainer = get_trainer(model=fnet,\n",
    "                      max_epochs=10,\n",
    "                      # epochs controls checkpoints :\n",
    "                      # if its a int -> checkpoint every x epoch ; if it's a list -> only at [x, y, z, ] epochs\n",
    "                      epochs=20,\n",
    "                      # where you will store everything\n",
    "                      root_dir=\"../freqnet_test/gould\",\n",
    "                     neptune_api_token=api_token,\n",
    "                     neptune_project=\"k-tonal/model-upload-test\")\n",
    "\n",
    "trainer.fit(fnet)"
   ]
  },
  {
   "cell_type": "code",
   "execution_count": null,
   "metadata": {},
   "outputs": [],
   "source": [
    "for i in range(8):\n",
    "    audio = fnet.generate(fnet.random_train_example(), n_steps=2048, hop_length=db.fft.attrs[\"hop_length\"])\n",
    "    fnet.log_audio(\"test_wav_\" + str(i), audio)"
   ]
  },
  {
   "cell_type": "code",
   "execution_count": null,
   "metadata": {},
   "outputs": [],
   "source": [
    "!tensorboard --logdir ../freqnet_test/gould/"
   ]
  },
  {
   "cell_type": "code",
   "execution_count": null,
   "metadata": {},
   "outputs": [],
   "source": [
    "fnet.upload_to_neptune()"
   ]
  },
  {
   "cell_type": "code",
   "execution_count": null,
   "metadata": {},
   "outputs": [],
   "source": [
    "import neptune\n",
    "import os\n",
    "\n",
    "api_token = os.environ[\"NEPTUNE_API_TOKEN\"]\n",
    "session = neptune.Session.with_default_backend(api_token=api_token)\n",
    "project = session.get_project(\"k-tonal\" + \"/\" + \"model-upload-test\")\n",
    "exp = project.get_experiments(id=\"MOD-32\")[0]\n",
    "exp.delete_artifacts(\"states\")"
   ]
  }
 ],
 "metadata": {
  "kernelspec": {
   "display_name": "Python 3",
   "language": "python",
   "name": "python3"
  },
  "language_info": {
   "codemirror_mode": {
    "name": "ipython",
    "version": 3
   },
   "file_extension": ".py",
   "mimetype": "text/x-python",
   "name": "python",
   "nbconvert_exporter": "python",
   "pygments_lexer": "ipython3",
   "version": "3.7.6"
  }
 },
 "nbformat": 4,
 "nbformat_minor": 4
}
