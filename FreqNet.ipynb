{
 "cells": [
  {
   "cell_type": "code",
   "execution_count": null,
   "metadata": {},
   "outputs": [],
   "source": [
    "from mimikit.freqnet import FreqNet\n",
    "from mimikit.data import Database, download_database\n",
    "from mimikit import get_trainer, get_token"
   ]
  },
  {
   "cell_type": "code",
   "execution_count": null,
   "metadata": {},
   "outputs": [],
   "source": [
    "# neptune :\n",
    "\n",
    "neptune_token = get_token()\n",
    "# for the db :\n",
    "neptune_project_db = \"k-tonal/data-and-base-notebooks\"\n",
    "neptune_exp_id_db = \"DAT-1\"\n",
    "full_exp_path_db = neptune_project_db + \"/\" + neptune_exp_id_db\n",
    "db_name = \"gould.h5\"\n",
    "\n",
    "# for the model :\n",
    "neptune_project = \"k-tonal/model-upload-test\"\n",
    "# those make sense only once you trained your model :\n",
    "# neptune_exp_id = \"EXP-1\"\n",
    "# full_exp_path = neptune_project + \"/\" + neptune_exp_id\n",
    "\n",
    "\n",
    "# paths\n",
    "path_to_db = \"./\" + db_name\n",
    "path_to_model = \"./model_test\"\n"
   ]
  },
  {
   "cell_type": "code",
   "execution_count": null,
   "metadata": {},
   "outputs": [],
   "source": [
    "# get your data\n",
    "\n",
    "# db = download_database(neptune_token,\n",
    "#                        full_exp_path_db,\n",
    "#                        database_name=db_name,\n",
    "#                        destination=\"./\")\n",
    "db = Database(path_to_db)"
   ]
  },
  {
   "cell_type": "code",
   "execution_count": null,
   "metadata": {
    "scrolled": false
   },
   "outputs": [],
   "source": [
    "# build a model and its trainer and fit\n",
    "\n",
    "model = FreqNet(\n",
    "    # data_object can be an array, a tensor or a db.feature : FreqNet infers its dimensionality!\n",
    "    data_object=db.fft,\n",
    "    splits=[.85, .15],\n",
    "     model_dim=64,\n",
    "     groups=1,\n",
    "     n_layers=(2,),\n",
    "     strict=False,\n",
    "     accum_outputs=None,\n",
    "     concat_outputs=None,\n",
    "     pad_input=None,\n",
    "     learn_padding=False,\n",
    "    input_seq_length=32,\n",
    "                 )\n",
    "\n",
    "trainer = get_trainer(model=model,\n",
    "                      max_epochs=2,\n",
    "                      # epochs controls checkpoints :\n",
    "                      # if its a int -> checkpoint every x epoch ; if it's a list -> only at [x, y, z, ] epochs\n",
    "                      epochs=1,\n",
    "                      # where you will store everything\n",
    "                      root_dir=path_to_model,\n",
    "                     neptune_api_token=neptune_token,\n",
    "                     neptune_project=neptune_project,\n",
    "                     )\n",
    "\n",
    "trainer.fit(model)"
   ]
  },
  {
   "cell_type": "code",
   "execution_count": null,
   "metadata": {},
   "outputs": [],
   "source": [
    "for i in range(8):\n",
    "    audio = model.generate(model.random_train_example(),\n",
    "                          n_steps=2048,\n",
    "                          hop_length=db.fft.attrs[\"hop_length\"])\n",
    "    model.log_audio(\"test_wav_\" + str(i), audio)"
   ]
  }
 ],
 "metadata": {
  "kernelspec": {
   "display_name": "Python 3",
   "language": "python",
   "name": "python3"
  },
  "language_info": {
   "codemirror_mode": {
    "name": "ipython",
    "version": 3
   },
   "file_extension": ".py",
   "mimetype": "text/x-python",
   "name": "python",
   "nbconvert_exporter": "python",
   "pygments_lexer": "ipython3",
   "version": "3.7.6"
  },
  "pycharm": {
   "stem_cell": {
    "cell_type": "raw",
    "metadata": {
     "collapsed": false
    },
    "source": []
   }
  }
 },
 "nbformat": 4,
 "nbformat_minor": 4
}
