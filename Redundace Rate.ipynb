{
 "cells": [
  {
   "cell_type": "code",
   "execution_count": 4,
   "metadata": {},
   "outputs": [],
   "source": [
    "from mimikit.freqnet import FreqNet\n",
    "from mimikit.data import Database\n",
    "from mimikit.utils import audio, signal\n",
    "from mimikit import NeptuneConnector\n",
    "import torch\n",
    "import numpy as np\n",
    "from random import randint\n",
    "%matplotlib inline\n",
    "import matplotlib.pyplot as plt\n",
    "plt.rcParams['figure.figsize'] = (20, 6)\n",
    "\n",
    "def cosine_similarity(X, Y, eps=1e-10):\n",
    "    \"\"\"\n",
    "    safely computes the cosine similarity between matrices X and Y.\n",
    "\n",
    "    Shapes:\n",
    "    -------\n",
    "    X : (*, N, D)\n",
    "    Y : (*, M, D)\n",
    "    D_xy : (*, N, M)\n",
    "\n",
    "    Notes:\n",
    "    ------\n",
    "    The need for this function arises from the fact that torch.nn.CosineSimilarity only computes the \n",
    "    diagonal of D_xy, as in cosine_sim(output, target) \n",
    "    \"\"\"\n",
    "    if not isinstance(eps, torch.Tensor):\n",
    "        eps = torch.tensor(eps).to(X)\n",
    "        \n",
    "    dot_prod = torch.matmul(X, Y.transpose(-2, -1))\n",
    "    norms = torch.norm(X, p=2, dim=-1).unsqueeze_(-1) * torch.norm(Y, p=2, dim=-1).unsqueeze_(-2)\n",
    "    cos_theta = dot_prod / torch.maximum(norms, eps)    \n",
    "    return cos_theta\n",
    "\n",
    "def angular_distance(X, Y, eps=1e-10):\n",
    "    \"\"\"\n",
    "    angular distance is a valid distance metric based on the cosine similarity\n",
    "    see https://en.wikipedia.org/wiki/Cosine_similarity#Angular_distance_and_similarity\n",
    "    \n",
    "    Shapes:\n",
    "    -------\n",
    "    X : (*, N, D)\n",
    "    Y : (*, M, D)\n",
    "    D_xy : (*, N, M)\n",
    "    \"\"\"\n",
    "    if not isinstance(eps, torch.Tensor):\n",
    "        eps = torch.tensor(eps).to(X)\n",
    "        \n",
    "    def safe_acos(x):\n",
    "        # torch.acos returns nan near -1 and 1... see https://github.com/pytorch/pytorch/issues/8069\n",
    "        return torch.acos(torch.clamp(x, min=-1+eps/2, max=1-eps/2))\n",
    "\n",
    "    have_negatives = torch.any(X < 0) or torch.any(Y < 0)\n",
    "    cos_theta = cosine_similarity(X, Y, eps)\n",
    "    \n",
    "    pi = torch.acos(torch.zeros(1)).item() * 2\n",
    "    D_xy = (1 + int(not have_negatives)) * safe_acos(cos_theta) / pi\n",
    "    \n",
    "    return D_xy\n",
    "\n",
    "\n",
    "def nearest_neighbor(X, Y):\n",
    "    D_xy = angular_distance(X, Y)\n",
    "    dists, nn = torch.min(D_xy, dim=-1)\n",
    "    return dists, nn\n",
    "\n",
    "\n",
    "def torch_frame(x, frame_size, hop_length):\n",
    "    N = x.size(-1)\n",
    "    org_size = x.size()[:-1]\n",
    "    tmp_0 = np.prod(tuple(org_size))\n",
    "    new_dims = (1 + int((N - frame_size) / hop_length), frame_size)\n",
    "    framed = torch.as_strided(x.reshape(-1, N), (tmp_0, *new_dims), (N, hop_length, 1))\n",
    "    return framed.reshape(*org_size, *new_dims)\n",
    "\n",
    "\n",
    "def repeat_rate(x, frame_size, hop_length):\n",
    "    \"\"\"\n",
    "    frames x and compute repeat-rate per frame\n",
    "    \"\"\"\n",
    "    framed = torch_frame(x, frame_size, hop_length)\n",
    "    uniques = torch.tensor([torch.unique(row).size(0) for row in framed.reshape(-1, framed.size(-1))])\n",
    "    return (1 - (uniques-1) / (frame_size-1)).reshape(framed.size()[:-1], -1)\n",
    "\n",
    "\n",
    "def nn_repeat_rate(X, wrt, frame_size, hop_length):\n",
    "    _, neighbs = nearest_neighbor(X, wrt)\n",
    "    return repeat_rate(neighbs, frame_size, hop_length)"
   ]
  },
  {
   "cell_type": "markdown",
   "metadata": {},
   "source": [
    "![title](imgs/redundance-rate.png)"
   ]
  },
  {
   "cell_type": "markdown",
   "metadata": {},
   "source": [
    "## Setup DB & model"
   ]
  },
  {
   "cell_type": "code",
   "execution_count": null,
   "metadata": {},
   "outputs": [],
   "source": [
    "nep_con = NeptuneConnector(user=\"k-tonal\",\n",
    "                           setup=dict(db=\"data-and-base-notebooks/DAT-27\",\n",
    "                                      model=\"experiment-2/EX2-13\"))\n",
    "\n",
    "db_name = \"genoel-mix.h5\"\n",
    "\n",
    "path_to_db = \"./\" + db_name\n",
    "path_to_model = \"./models\"\n",
    "\n",
    "nep_con.download_experiment(\"model\", destination=path_to_model, artifacts=\"states/\")\n",
    "\n",
    "db = nep_con.download_database(\"db\", db_name)\n",
    "\n",
    "db.metadata"
   ]
  },
  {
   "cell_type": "code",
   "execution_count": null,
   "metadata": {},
   "outputs": [],
   "source": [
    "epoch = 99\n",
    "\n",
    "path_to_ckpt = path_to_model + nep_con.setup[\"model\"].split(\"/\")[-1] + \"/states/epoch=%i.ckpt\" % epoch\n",
    "model = FreqNet.load_from_checkpoint(path_to_ckpt, data_object=db.fft)"
   ]
  },
  {
   "cell_type": "markdown",
   "metadata": {},
   "source": [
    "## Generate single output"
   ]
  },
  {
   "cell_type": "code",
   "execution_count": null,
   "metadata": {},
   "outputs": [],
   "source": [
    "prompt_length = 64\n",
    "n_steps = 2048\n",
    "i = random.randint(0, model.data.shape[0] - prompt_length)\n",
    "\n",
    "output = model.generate(model.data[i:i+prompt_length], time_domain=False, n_steps=n_steps).squeeze(0)\n",
    "wrt = torch.from_numpy(model.data[i+prompt_length:i+prompt_length+n_steps]).to(output).unsqueeze(0)\n",
    "\n",
    "audio(output.squeeze().numpy().T, hop_length=db.fft.attrs[\"hop_length\"])"
   ]
  },
  {
   "cell_type": "markdown",
   "metadata": {},
   "source": [
    "## Compute RR over time at mutiple levels for a single output"
   ]
  },
  {
   "cell_type": "code",
   "execution_count": null,
   "metadata": {},
   "outputs": [],
   "source": [
    "# compute nearest neighbors:\n",
    "\n",
    "with torch.no_grad():\n",
    "    _, neighbs = nearest_neighbor(output[:, prompt_length:], wrt)\n",
    "\n",
    "\n",
    "# multiple levels of locality :\n",
    "\n",
    "frame_size = (2, 8, 32)\n",
    "hop_length = (1, 1, 1)\n",
    "\n",
    "\n",
    "# compute rr and plot\n",
    "\n",
    "for fs, hop in zip(frame_size, hop_length):\n",
    "    with torch.no_grad():\n",
    "        r = repeat_rate(neighbs, frame_size, hop_length)\n",
    "    plt.plot(r.squeeze().cpu().numpy(), label=\"frame_size=\"+str(fs))\n",
    "    \n",
    "plt.legend()\n",
    "plt.xlabel('Redundance Rate')\n",
    "plt.ylabel('Time')\n",
    "plt.title('Local Redundance Rate')"
   ]
  },
  {
   "cell_type": "code",
   "execution_count": null,
   "metadata": {},
   "outputs": [],
   "source": []
  },
  {
   "cell_type": "code",
   "execution_count": null,
   "metadata": {},
   "outputs": [],
   "source": [
    "# number of prompts we will score :\n",
    "\n",
    "n_prompts = 500\n",
    "\n",
    "# params for each prompt :\n",
    "\n",
    "prompt_length = 64\n",
    "n_steps = 300\n",
    "\n",
    "indices = range(0, db.fft.shape[0], db.fft.shape[0] // n_prompts)\n",
    "prompts = torch.from_numpy(np.stack([db.fft[i:i+prompt_length] for i in indices]))\n",
    "wrts = torch.from_numpy(np.stack([db.fft[i+prompt_length:i+prompt_length+n_steps] for i in indices]))\n",
    "\n",
    "outputs = model.generate(prompts, time_domain=False, n_steps=n_steps).squeeze(0)\n"
   ]
  },
  {
   "cell_type": "code",
   "execution_count": null,
   "metadata": {},
   "outputs": [],
   "source": [
    "# compute nearest neighbors:\n",
    "\n",
    "with torch.no_grad():\n",
    "    _, neighbs = nearest_neighbor(outputs[:, prompt_length:], wrts)\n",
    "\n",
    "\n",
    "# multiple levels of locality :\n",
    "\n",
    "frame_size = (2, 8, 32)\n",
    "hop_length = (1, 1, 1)\n",
    "\n",
    "\n",
    "# compute rr and plot\n",
    "\n",
    "for fs, hop in zip(frame_size, hop_length):\n",
    "    with torch.no_grad():\n",
    "        r = repeat_rate(neighbs, frame_size, hop_length).mean(dim=-1)\n",
    "    plt.plot(list(indices), r.squeeze().cpu().numpy(), label=\"frame_size=\"+str(fs))\n",
    "    \n",
    "plt.legend()\n",
    "plt.legend()\n",
    "plt.xlabel('Mean Local Redundance Rate')\n",
    "plt.ylabel('Prompt Index')\n",
    "plt.title(\"Output's Scores\")"
   ]
  },
  {
   "cell_type": "code",
   "execution_count": null,
   "metadata": {},
   "outputs": [],
   "source": []
  },
  {
   "cell_type": "code",
   "execution_count": null,
   "metadata": {},
   "outputs": [],
   "source": []
  },
  {
   "cell_type": "code",
   "execution_count": null,
   "metadata": {},
   "outputs": [],
   "source": []
  },
  {
   "cell_type": "code",
   "execution_count": null,
   "metadata": {},
   "outputs": [],
   "source": []
  },
  {
   "cell_type": "code",
   "execution_count": null,
   "metadata": {},
   "outputs": [],
   "source": []
  },
  {
   "cell_type": "code",
   "execution_count": null,
   "metadata": {},
   "outputs": [],
   "source": []
  },
  {
   "cell_type": "code",
   "execution_count": null,
   "metadata": {},
   "outputs": [],
   "source": []
  },
  {
   "cell_type": "code",
   "execution_count": null,
   "metadata": {},
   "outputs": [],
   "source": []
  },
  {
   "cell_type": "code",
   "execution_count": null,
   "metadata": {},
   "outputs": [],
   "source": []
  }
 ],
 "metadata": {
  "kernelspec": {
   "display_name": "Python 3",
   "language": "python",
   "name": "python3"
  },
  "language_info": {
   "codemirror_mode": {
    "name": "ipython",
    "version": 3
   },
   "file_extension": ".py",
   "mimetype": "text/x-python",
   "name": "python",
   "nbconvert_exporter": "python",
   "pygments_lexer": "ipython3",
   "version": "3.7.6"
  }
 },
 "nbformat": 4,
 "nbformat_minor": 4
}
